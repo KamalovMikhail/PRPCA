{
 "cells": [
  {
   "cell_type": "code",
   "execution_count": 1,
   "metadata": {},
   "outputs": [],
   "source": [
    "from plotly.subplots import make_subplots\n",
    "import numpy as np\n",
    "import plotly.graph_objects as go\n",
    "import plotly\n",
    "import networkx as nx\n",
    "import scipy.sparse as sp\n",
    "import scipy as sc\n",
    "import scipy as sc\n",
    "import time\n",
    "import pandas as pd\n",
    "from genpr.tensorflow.io_planetoid_type import load_data\n",
    "from genpr.data.io import load_dataset\n",
    "import tqdm\n",
    "from sklearn.preprocessing import normalize\n",
    "from scipy.spatial import distance\n",
    "from sklearn.metrics import average_precision_score, accuracy_score"
   ]
  },
  {
   "cell_type": "code",
   "execution_count": 84,
   "metadata": {},
   "outputs": [],
   "source": [
    "adj, attr_matrix, y_train, y_val, y_test, train_mask, val_mask, test_mask, ally, allx = load_data('citeseer')"
   ]
  },
  {
   "cell_type": "code",
   "execution_count": 424,
   "metadata": {},
   "outputs": [
    {
     "data": {
      "text/plain": [
       "<3327x3327 sparse matrix of type '<class 'numpy.longlong'>'\n",
       "\twith 9228 stored elements in Compressed Sparse Row format>"
      ]
     },
     "execution_count": 424,
     "metadata": {},
     "output_type": "execute_result"
    }
   ],
   "source": [
    "adj"
   ]
  },
  {
   "cell_type": "code",
   "execution_count": 85,
   "metadata": {},
   "outputs": [],
   "source": [
    "X = attr_matrix.toarray()"
   ]
  },
  {
   "cell_type": "code",
   "execution_count": 327,
   "metadata": {},
   "outputs": [
    {
     "data": {
      "text/plain": [
       "0.8084638094052876"
      ]
     },
     "execution_count": 327,
     "metadata": {},
     "output_type": "execute_result"
    }
   ],
   "source": [
    "AHAT = calc_A_hat(Af, 1)\n",
    "#rex = np.identity(nnodes) - alpha * AHAT \n",
    "max(abs(np.linalg.eig(     AHAT /9   )[0]))"
   ]
  },
  {
   "cell_type": "code",
   "execution_count": 350,
   "metadata": {},
   "outputs": [],
   "source": [
    "AHAT = calc_A_hat(Af, 1)\n",
    "alpha = 0.9"
   ]
  },
  {
   "cell_type": "code",
   "execution_count": 357,
   "metadata": {},
   "outputs": [],
   "source": [
    "zp = np.ones(AHAT.shape[0])#/AHAT.shape[0]"
   ]
  },
  {
   "cell_type": "code",
   "execution_count": 360,
   "metadata": {
    "collapsed": true
   },
   "outputs": [
    {
     "name": "stdout",
     "output_type": "stream",
     "text": [
      "0.16520809207746165\n",
      "0.16520809207746145\n",
      "0.16520809207746162\n",
      "0.1652080920774617\n",
      "0.16520809207746173\n",
      "0.16520809207746173\n",
      "0.1652080920774618\n",
      "0.16520809207746176\n",
      "0.1652080920774618\n",
      "0.1652080920774618\n",
      "0.1652080920774618\n",
      "0.1652080920774618\n",
      "0.1652080920774618\n",
      "0.1652080920774618\n",
      "0.1652080920774618\n",
      "0.1652080920774618\n",
      "0.1652080920774618\n",
      "0.1652080920774618\n",
      "0.1652080920774618\n",
      "0.1652080920774618\n",
      "0.1652080920774618\n",
      "0.1652080920774618\n",
      "0.1652080920774618\n",
      "0.1652080920774618\n",
      "0.1652080920774618\n",
      "0.1652080920774618\n",
      "0.1652080920774618\n",
      "0.1652080920774618\n",
      "0.1652080920774618\n",
      "0.1652080920774618\n",
      "0.1652080920774618\n",
      "0.1652080920774618\n",
      "0.1652080920774618\n",
      "0.1652080920774618\n",
      "0.1652080920774618\n",
      "0.1652080920774618\n",
      "0.1652080920774618\n",
      "0.1652080920774618\n",
      "0.1652080920774618\n",
      "0.1652080920774618\n",
      "0.1652080920774618\n",
      "0.1652080920774618\n",
      "0.1652080920774618\n",
      "0.1652080920774618\n",
      "0.1652080920774618\n",
      "0.1652080920774618\n"
     ]
    },
    {
     "ename": "KeyboardInterrupt",
     "evalue": "",
     "output_type": "error",
     "traceback": [
      "\u001b[0;31m---------------------------------------------------------------------------\u001b[0m",
      "\u001b[0;31mKeyboardInterrupt\u001b[0m                         Traceback (most recent call last)",
      "\u001b[0;32m<ipython-input-360-ac7dd986f9ec>\u001b[0m in \u001b[0;36m<module>\u001b[0;34m\u001b[0m\n\u001b[1;32m      1\u001b[0m \u001b[0;32mfor\u001b[0m \u001b[0mi\u001b[0m \u001b[0;32min\u001b[0m \u001b[0mrange\u001b[0m\u001b[0;34m(\u001b[0m\u001b[0;36m1000\u001b[0m\u001b[0;34m)\u001b[0m\u001b[0;34m:\u001b[0m\u001b[0;34m\u001b[0m\u001b[0;34m\u001b[0m\u001b[0m\n\u001b[0;32m----> 2\u001b[0;31m     \u001b[0mzp\u001b[0m \u001b[0;34m=\u001b[0m \u001b[0mzp\u001b[0m\u001b[0;34m@\u001b[0m \u001b[0;34m(\u001b[0m\u001b[0malpha\u001b[0m\u001b[0;34m*\u001b[0m\u001b[0mAHAT\u001b[0m\u001b[0;34m)\u001b[0m\u001b[0;34m\u001b[0m\u001b[0;34m\u001b[0m\u001b[0m\n\u001b[0m\u001b[1;32m      3\u001b[0m     \u001b[0mzp\u001b[0m \u001b[0;34m=\u001b[0m \u001b[0mzp\u001b[0m\u001b[0;34m/\u001b[0m\u001b[0mnp\u001b[0m\u001b[0;34m.\u001b[0m\u001b[0mlinalg\u001b[0m\u001b[0;34m.\u001b[0m\u001b[0mnorm\u001b[0m\u001b[0;34m(\u001b[0m\u001b[0mzp\u001b[0m\u001b[0;34m)\u001b[0m\u001b[0;34m\u001b[0m\u001b[0;34m\u001b[0m\u001b[0m\n\u001b[1;32m      4\u001b[0m     \u001b[0mprint\u001b[0m\u001b[0;34m(\u001b[0m\u001b[0mmax\u001b[0m\u001b[0;34m(\u001b[0m\u001b[0mabs\u001b[0m\u001b[0;34m(\u001b[0m\u001b[0mnp\u001b[0m\u001b[0;34m.\u001b[0m\u001b[0marray\u001b[0m\u001b[0;34m(\u001b[0m\u001b[0mzp\u001b[0m\u001b[0;34m*\u001b[0m\u001b[0mnp\u001b[0m\u001b[0;34m.\u001b[0m\u001b[0mlinalg\u001b[0m\u001b[0;34m.\u001b[0m\u001b[0mnorm\u001b[0m\u001b[0;34m(\u001b[0m\u001b[0mzp\u001b[0m\u001b[0;34m)\u001b[0m \u001b[0;34m)\u001b[0m\u001b[0;34m[\u001b[0m\u001b[0;36m0\u001b[0m\u001b[0;34m]\u001b[0m\u001b[0;34m)\u001b[0m\u001b[0;34m)\u001b[0m\u001b[0;34m)\u001b[0m\u001b[0;34m\u001b[0m\u001b[0;34m\u001b[0m\u001b[0m\n",
      "\u001b[0;32m~/opt/anaconda3/lib/python3.7/site-packages/numpy/matrixlib/defmatrix.py\u001b[0m in \u001b[0;36m__rmul__\u001b[0;34m(self, other)\u001b[0m\n\u001b[1;32m    224\u001b[0m \u001b[0;34m\u001b[0m\u001b[0m\n\u001b[1;32m    225\u001b[0m     \u001b[0;32mdef\u001b[0m \u001b[0m__rmul__\u001b[0m\u001b[0;34m(\u001b[0m\u001b[0mself\u001b[0m\u001b[0;34m,\u001b[0m \u001b[0mother\u001b[0m\u001b[0;34m)\u001b[0m\u001b[0;34m:\u001b[0m\u001b[0;34m\u001b[0m\u001b[0;34m\u001b[0m\u001b[0m\n\u001b[0;32m--> 226\u001b[0;31m         \u001b[0;32mreturn\u001b[0m \u001b[0mN\u001b[0m\u001b[0;34m.\u001b[0m\u001b[0mdot\u001b[0m\u001b[0;34m(\u001b[0m\u001b[0mother\u001b[0m\u001b[0;34m,\u001b[0m \u001b[0mself\u001b[0m\u001b[0;34m)\u001b[0m\u001b[0;34m\u001b[0m\u001b[0;34m\u001b[0m\u001b[0m\n\u001b[0m\u001b[1;32m    227\u001b[0m \u001b[0;34m\u001b[0m\u001b[0m\n\u001b[1;32m    228\u001b[0m     \u001b[0;32mdef\u001b[0m \u001b[0m__imul__\u001b[0m\u001b[0;34m(\u001b[0m\u001b[0mself\u001b[0m\u001b[0;34m,\u001b[0m \u001b[0mother\u001b[0m\u001b[0;34m)\u001b[0m\u001b[0;34m:\u001b[0m\u001b[0;34m\u001b[0m\u001b[0;34m\u001b[0m\u001b[0m\n",
      "\u001b[0;32m<__array_function__ internals>\u001b[0m in \u001b[0;36mdot\u001b[0;34m(*args, **kwargs)\u001b[0m\n",
      "\u001b[0;31mKeyboardInterrupt\u001b[0m: "
     ]
    }
   ],
   "source": [
    "for i in range(1000):\n",
    "    zp = zp@ (alpha*AHAT) \n",
    "    zp = zp/np.linalg.norm(zp) \n",
    "    print(max(abs(np.array(zp*np.linalg.norm(zp) )[0])))"
   ]
  },
  {
   "cell_type": "code",
   "execution_count": 342,
   "metadata": {},
   "outputs": [
    {
     "data": {
      "text/plain": [
       "array([[0.0149257 , 0.01720664, 0.01494842, ..., 0.0129724 , 0.01491637,\n",
       "        0.00803567]])"
      ]
     },
     "execution_count": 342,
     "metadata": {},
     "output_type": "execute_result"
    }
   ],
   "source": [
    "np.array(zp)"
   ]
  },
  {
   "cell_type": "code",
   "execution_count": 331,
   "metadata": {},
   "outputs": [
    {
     "data": {
      "text/plain": [
       "3.84707184705551"
      ]
     },
     "execution_count": 331,
     "metadata": {},
     "output_type": "execute_result"
    }
   ],
   "source": [
    "np.linalg.norm(AHAT /9)"
   ]
  },
  {
   "cell_type": "code",
   "execution_count": 245,
   "metadata": {},
   "outputs": [],
   "source": [
    "def exact_pr(A,b):\n",
    "    return  np.linalg.inv(A )@ b"
   ]
  },
  {
   "cell_type": "code",
   "execution_count": 476,
   "metadata": {},
   "outputs": [
    {
     "data": {
      "text/plain": [
       "0.3541972845475299"
      ]
     },
     "execution_count": 476,
     "metadata": {},
     "output_type": "execute_result"
    }
   ],
   "source": [
    "max(abs(np.linalg.eig(   0.9* MMd  )[0]))"
   ]
  },
  {
   "cell_type": "code",
   "execution_count": 479,
   "metadata": {},
   "outputs": [
    {
     "data": {
      "text/plain": [
       "1.2329673580766596"
      ]
     },
     "execution_count": 479,
     "metadata": {},
     "output_type": "execute_result"
    }
   ],
   "source": [
    "max(abs(np.linalg.eig(     0.9* AP + 0.9* MMd  )[0]))"
   ]
  },
  {
   "cell_type": "code",
   "execution_count": 478,
   "metadata": {},
   "outputs": [
    {
     "data": {
      "text/plain": [
       "1.25419728454753"
      ]
     },
     "execution_count": 478,
     "metadata": {},
     "output_type": "execute_result"
    }
   ],
   "source": [
    "0.9 + 0.3541972845475299"
   ]
  },
  {
   "cell_type": "code",
   "execution_count": 483,
   "metadata": {},
   "outputs": [
    {
     "data": {
      "text/plain": [
       "0.005954631379962193"
      ]
     },
     "execution_count": 483,
     "metadata": {},
     "output_type": "execute_result"
    }
   ],
   "source": [
    "max(np.diag(MMd))*0.9"
   ]
  },
  {
   "cell_type": "code",
   "execution_count": 472,
   "metadata": {},
   "outputs": [
    {
     "name": "stdout",
     "output_type": "stream",
     "text": [
      "Time:  1.3334762279991992\n",
      "0.708 0.736\n"
     ]
    }
   ],
   "source": [
    "alpha = 0.9\n",
    "AHAT,MMd, AP = calc_A_hat(Af, 1)\n",
    "\n",
    "\n",
    "rex = (np.identity(nnodes)  - alpha * AHAT )#@D_m  \n",
    "start = timeit.default_timer()\n",
    "Z = exact_pr(rex, (1-alpha) * y_train )\n",
    "stop = timeit.default_timer()\n",
    "\n",
    "print('Time: ', stop - start) \n",
    "real_acc = accuracy_score( np.argmax(y_test[test_mask], axis=-1), \n",
    "                          np.argmax(np.array(Z )[test_mask], axis=-1))\n",
    " \n",
    "reval_al_acc = accuracy_score( np.argmax(y_val[val_mask], axis=-1), \n",
    "                              np.argmax(np.array( Z )[val_mask], axis=-1))\n",
    " \n",
    "print(reval_al_acc, real_acc)"
   ]
  },
  {
   "cell_type": "code",
   "execution_count": null,
   "metadata": {},
   "outputs": [],
   "source": [
    "MMd"
   ]
  },
  {
   "cell_type": "code",
   "execution_count": 272,
   "metadata": {},
   "outputs": [],
   "source": [
    "Af = adj.toarray()"
   ]
  },
  {
   "cell_type": "code",
   "execution_count": 88,
   "metadata": {},
   "outputs": [],
   "source": [
    "nnodes = Af.shape[0]"
   ]
  },
  {
   "cell_type": "code",
   "execution_count": 459,
   "metadata": {
    "collapsed": true
   },
   "outputs": [
    {
     "name": "stderr",
     "output_type": "stream",
     "text": [
      "\n",
      "  0%|          | 0/3327 [00:00<?, ?it/s]\u001b[A\n",
      "  1%|          | 28/3327 [00:00<00:11, 275.86it/s]\u001b[A\n",
      "  2%|▏         | 55/3327 [00:00<00:12, 272.48it/s]\u001b[A\n",
      "  2%|▏         | 82/3327 [00:00<00:12, 270.35it/s]\u001b[A\n",
      "  3%|▎         | 110/3327 [00:00<00:11, 271.45it/s]\u001b[A\n",
      "  4%|▍         | 138/3327 [00:00<00:11, 273.87it/s]\u001b[A\n",
      "  5%|▌         | 167/3327 [00:00<00:11, 277.64it/s]\u001b[A\n",
      "  6%|▌         | 198/3327 [00:00<00:10, 286.40it/s]\u001b[A\n",
      "  7%|▋         | 230/3327 [00:00<00:10, 294.64it/s]\u001b[A\n",
      "  8%|▊         | 262/3327 [00:00<00:10, 300.09it/s]\u001b[A\n",
      "  9%|▉         | 292/3327 [00:01<00:11, 275.01it/s]\u001b[A\n",
      " 10%|▉         | 320/3327 [00:01<00:10, 275.44it/s]\u001b[A\n",
      " 11%|█         | 353/3327 [00:01<00:10, 288.95it/s]\u001b[A\n",
      " 12%|█▏        | 384/3327 [00:01<00:10, 294.22it/s]\u001b[A\n",
      " 13%|█▎        | 416/3327 [00:01<00:09, 300.99it/s]\u001b[A\n",
      " 13%|█▎        | 449/3327 [00:01<00:09, 308.59it/s]\u001b[A\n",
      " 14%|█▍        | 482/3327 [00:01<00:09, 313.70it/s]\u001b[A\n",
      " 15%|█▌        | 514/3327 [00:01<00:08, 315.13it/s]\u001b[A\n",
      " 16%|█▋        | 548/3327 [00:01<00:08, 322.14it/s]\u001b[A\n",
      " 17%|█▋        | 582/3327 [00:01<00:08, 326.37it/s]\u001b[A\n",
      " 18%|█▊        | 615/3327 [00:02<00:08, 326.99it/s]\u001b[A\n",
      " 19%|█▉        | 648/3327 [00:02<00:08, 310.25it/s]\u001b[A\n",
      " 20%|██        | 680/3327 [00:02<00:08, 309.56it/s]\u001b[A\n",
      " 21%|██▏       | 713/3327 [00:02<00:08, 315.37it/s]\u001b[A\n",
      " 22%|██▏       | 748/3327 [00:02<00:07, 322.80it/s]\u001b[A\n",
      " 23%|██▎       | 781/3327 [00:02<00:07, 320.57it/s]\u001b[A\n",
      " 24%|██▍       | 814/3327 [00:02<00:07, 314.15it/s]\u001b[A\n",
      " 26%|██▌       | 849/3327 [00:02<00:07, 323.08it/s]\u001b[A\n",
      " 27%|██▋       | 883/3327 [00:02<00:07, 327.36it/s]\u001b[A\n",
      " 28%|██▊       | 916/3327 [00:03<00:07, 313.06it/s]\u001b[A\n",
      " 28%|██▊       | 948/3327 [00:03<00:07, 314.19it/s]\u001b[A\n",
      " 30%|██▉       | 983/3327 [00:03<00:07, 324.12it/s]\u001b[A\n",
      " 31%|███       | 1018/3327 [00:03<00:06, 330.96it/s]\u001b[A\n",
      " 32%|███▏      | 1052/3327 [00:03<00:06, 329.32it/s]\u001b[A\n",
      " 33%|███▎      | 1088/3327 [00:03<00:06, 337.03it/s]\u001b[A\n",
      " 34%|███▎      | 1122/3327 [00:03<00:06, 336.09it/s]\u001b[A\n",
      " 35%|███▍      | 1156/3327 [00:03<00:06, 334.95it/s]\u001b[A\n",
      " 36%|███▌      | 1190/3327 [00:03<00:06, 335.44it/s]\u001b[A\n",
      " 37%|███▋      | 1224/3327 [00:03<00:06, 326.33it/s]\u001b[A\n",
      " 38%|███▊      | 1257/3327 [00:04<00:06, 302.78it/s]\u001b[A\n",
      " 39%|███▉      | 1291/3327 [00:04<00:06, 311.25it/s]\u001b[A\n",
      " 40%|███▉      | 1325/3327 [00:04<00:06, 317.68it/s]\u001b[A\n",
      " 41%|████      | 1358/3327 [00:04<00:06, 320.48it/s]\u001b[A\n",
      " 42%|████▏     | 1391/3327 [00:04<00:06, 302.19it/s]\u001b[A\n",
      " 43%|████▎     | 1423/3327 [00:04<00:06, 306.58it/s]\u001b[A\n",
      " 44%|████▍     | 1459/3327 [00:04<00:05, 319.10it/s]\u001b[A\n",
      " 45%|████▍     | 1492/3327 [00:04<00:05, 315.27it/s]\u001b[A\n",
      " 46%|████▌     | 1525/3327 [00:04<00:05, 317.83it/s]\u001b[A\n",
      " 47%|████▋     | 1558/3327 [00:05<00:05, 320.14it/s]\u001b[A\n",
      " 48%|████▊     | 1593/3327 [00:05<00:05, 327.69it/s]\u001b[A\n",
      " 49%|████▉     | 1626/3327 [00:05<00:05, 319.63it/s]\u001b[A\n",
      " 50%|████▉     | 1660/3327 [00:05<00:05, 324.41it/s]\u001b[A\n",
      " 51%|█████     | 1695/3327 [00:05<00:04, 330.37it/s]\u001b[A\n",
      " 52%|█████▏    | 1729/3327 [00:05<00:05, 318.26it/s]\u001b[A\n",
      " 53%|█████▎    | 1763/3327 [00:05<00:04, 323.35it/s]\u001b[A\n",
      " 54%|█████▍    | 1796/3327 [00:05<00:04, 321.62it/s]\u001b[A\n",
      " 55%|█████▍    | 1829/3327 [00:05<00:04, 318.74it/s]\u001b[A\n",
      " 56%|█████▌    | 1862/3327 [00:05<00:04, 320.07it/s]\u001b[A\n",
      " 57%|█████▋    | 1895/3327 [00:06<00:04, 304.79it/s]\u001b[A\n",
      " 58%|█████▊    | 1926/3327 [00:06<00:04, 306.04it/s]\u001b[A\n",
      " 59%|█████▉    | 1959/3327 [00:06<00:04, 309.67it/s]\u001b[A\n",
      " 60%|█████▉    | 1991/3327 [00:06<00:04, 292.26it/s]\u001b[A\n",
      " 61%|██████    | 2025/3327 [00:06<00:04, 303.55it/s]\u001b[A\n",
      " 62%|██████▏   | 2056/3327 [00:06<00:04, 305.39it/s]\u001b[A\n",
      " 63%|██████▎   | 2087/3327 [00:06<00:04, 306.63it/s]\u001b[A\n",
      " 64%|██████▍   | 2122/3327 [00:06<00:03, 316.96it/s]\u001b[A\n",
      " 65%|██████▍   | 2155/3327 [00:06<00:03, 319.16it/s]\u001b[A\n",
      " 66%|██████▌   | 2189/3327 [00:06<00:03, 322.22it/s]\u001b[A\n",
      " 67%|██████▋   | 2222/3327 [00:07<00:03, 321.73it/s]\u001b[A\n",
      " 68%|██████▊   | 2255/3327 [00:07<00:03, 322.84it/s]\u001b[A\n",
      " 69%|██████▉   | 2288/3327 [00:07<00:03, 298.57it/s]\u001b[A\n",
      " 70%|██████▉   | 2321/3327 [00:07<00:03, 305.00it/s]\u001b[A\n",
      " 71%|███████   | 2352/3327 [00:07<00:03, 305.06it/s]\u001b[A\n",
      " 72%|███████▏  | 2385/3327 [00:07<00:03, 311.14it/s]\u001b[A\n",
      " 73%|███████▎  | 2417/3327 [00:07<00:02, 312.28it/s]\u001b[A\n",
      " 74%|███████▎  | 2449/3327 [00:07<00:02, 308.00it/s]\u001b[A\n",
      " 75%|███████▍  | 2480/3327 [00:07<00:02, 302.84it/s]\u001b[A\n",
      " 76%|███████▌  | 2515/3327 [00:08<00:02, 314.92it/s]\u001b[A\n",
      " 77%|███████▋  | 2549/3327 [00:08<00:02, 321.78it/s]\u001b[A\n",
      " 78%|███████▊  | 2583/3327 [00:08<00:02, 325.36it/s]\u001b[A\n",
      " 79%|███████▊  | 2616/3327 [00:08<00:02, 286.83it/s]\u001b[A\n",
      " 80%|███████▉  | 2646/3327 [00:08<00:02, 287.74it/s]\u001b[A\n",
      " 80%|████████  | 2677/3327 [00:08<00:02, 292.46it/s]\u001b[A\n",
      " 81%|████████▏ | 2707/3327 [00:08<00:02, 285.37it/s]\u001b[A\n",
      " 82%|████████▏ | 2742/3327 [00:08<00:01, 300.67it/s]\u001b[A\n",
      " 83%|████████▎ | 2776/3327 [00:08<00:01, 310.17it/s]\u001b[A\n",
      " 84%|████████▍ | 2808/3327 [00:09<00:01, 306.63it/s]\u001b[A\n",
      " 85%|████████▌ | 2839/3327 [00:09<00:01, 292.19it/s]\u001b[A\n",
      " 86%|████████▋ | 2874/3327 [00:09<00:01, 307.39it/s]\u001b[A\n",
      " 87%|████████▋ | 2907/3327 [00:09<00:01, 312.91it/s]\u001b[A\n",
      " 88%|████████▊ | 2939/3327 [00:09<00:01, 314.47it/s]\u001b[A\n",
      " 89%|████████▉ | 2971/3327 [00:09<00:01, 314.60it/s]\u001b[A\n",
      " 90%|█████████ | 3006/3327 [00:09<00:00, 323.58it/s]\u001b[A\n",
      " 91%|█████████▏| 3039/3327 [00:09<00:00, 322.66it/s]\u001b[A\n",
      " 92%|█████████▏| 3075/3327 [00:09<00:00, 331.57it/s]\u001b[A\n",
      " 93%|█████████▎| 3109/3327 [00:09<00:00, 327.10it/s]\u001b[A\n",
      " 94%|█████████▍| 3142/3327 [00:10<00:00, 320.10it/s]\u001b[A\n",
      " 95%|█████████▌| 3175/3327 [00:10<00:00, 316.81it/s]\u001b[A\n",
      " 96%|█████████▋| 3208/3327 [00:10<00:00, 319.04it/s]\u001b[A\n",
      " 97%|█████████▋| 3240/3327 [00:10<00:00, 302.20it/s]\u001b[A\n",
      " 98%|█████████▊| 3271/3327 [00:10<00:00, 297.59it/s]\u001b[A\n",
      "100%|██████████| 3327/3327 [00:10<00:00, 311.44it/s]\u001b[A\n"
     ]
    }
   ],
   "source": [
    "MMz = np.zeros(MMx.shape)\n",
    "count_v = 0\n",
    "q7 = np.percentile(abs(MMx), 75)\n",
    "for i in tqdm.tqdm(range(nnodes)):\n",
    "    \n",
    "    for j in range(nnodes):\n",
    "        if abs(MMx[i,j]) >= q7:\n",
    "            count_v += 2\n",
    "            MMz[i,j] = abs(MMx[i,j]) \n",
    "            MMz[j,i] = abs(MMx[i,j])\n",
    "    "
   ]
  },
  {
   "cell_type": "code",
   "execution_count": 458,
   "metadata": {},
   "outputs": [
    {
     "data": {
      "text/plain": [
       "0.0005401026194977045"
      ]
     },
     "execution_count": 458,
     "metadata": {},
     "output_type": "execute_result"
    }
   ],
   "source": [
    "q7"
   ]
  },
  {
   "cell_type": "code",
   "execution_count": 461,
   "metadata": {},
   "outputs": [
    {
     "data": {
      "text/plain": [
       "4339858"
      ]
     },
     "execution_count": 461,
     "metadata": {},
     "output_type": "execute_result"
    }
   ],
   "source": [
    "len(MMz[MMz !=0])"
   ]
  },
  {
   "cell_type": "code",
   "execution_count": null,
   "metadata": {},
   "outputs": [],
   "source": [
    "np.percentile()"
   ]
  },
  {
   "cell_type": "code",
   "execution_count": 457,
   "metadata": {},
   "outputs": [],
   "source": [
    "#q9 = np.percentile(abs(MMx), 0.9)\n",
    "q7 = np.percentile(abs(MMx), 75)"
   ]
  },
  {
   "cell_type": "code",
   "execution_count": 429,
   "metadata": {},
   "outputs": [
    {
     "data": {
      "text/plain": [
       "11068929"
      ]
     },
     "execution_count": 429,
     "metadata": {},
     "output_type": "execute_result"
    }
   ],
   "source": [
    "nnodes **2"
   ]
  },
  {
   "cell_type": "code",
   "execution_count": 433,
   "metadata": {
    "collapsed": true
   },
   "outputs": [
    {
     "data": {
      "text/plain": [
       "4034192"
      ]
     },
     "execution_count": 433,
     "metadata": {},
     "output_type": "execute_result"
    }
   ],
   "source": [
    "count_v"
   ]
  },
  {
   "cell_type": "code",
   "execution_count": 413,
   "metadata": {},
   "outputs": [
    {
     "data": {
      "text/plain": [
       "4339858"
      ]
     },
     "execution_count": 413,
     "metadata": {},
     "output_type": "execute_result"
    }
   ],
   "source": [
    "len(np.where(MMz > 0.00027005130974885227)[0])"
   ]
  },
  {
   "cell_type": "code",
   "execution_count": 387,
   "metadata": {},
   "outputs": [
    {
     "data": {
      "text/plain": [
       "0.00027005130974885227"
      ]
     },
     "execution_count": 387,
     "metadata": {},
     "output_type": "execute_result"
    }
   ],
   "source": [
    "np.median(abs(MMx))"
   ]
  },
  {
   "cell_type": "code",
   "execution_count": 373,
   "metadata": {},
   "outputs": [
    {
     "data": {
      "text/plain": [
       "11068929"
      ]
     },
     "execution_count": 373,
     "metadata": {},
     "output_type": "execute_result"
    }
   ],
   "source": [
    "3327*3327"
   ]
  },
  {
   "cell_type": "code",
   "execution_count": 465,
   "metadata": {},
   "outputs": [],
   "source": [
    "def calc_A_hat(adj_matrix: sp.spmatrix, delta ) -> sp.spmatrix:\n",
    "    nnodes = adj_matrix.shape[0]\n",
    "    A = adj_matrix  + sp.eye(nnodes)#Ω#@ D_invsqrt_corr\n",
    "    D_vec = np.sum(A, axis=1).A1 \n",
    "    D_vec_invsqrt_corr = 1 /  D_vec  \n",
    "    D_invsqrt_corr = sp.diags(D_vec_invsqrt_corr) \n",
    "    \n",
    "     \n",
    "    return      D_invsqrt_corr@A + delta*(  MMz )@D_invsqrt_corr, (  MMz )@D_invsqrt_corr   , D_invsqrt_corr@A"
   ]
  },
  {
   "cell_type": "code",
   "execution_count": 329,
   "metadata": {},
   "outputs": [],
   "source": [
    "Xn = X.T\n",
    "Xn = Xn  \n",
    "MMx =  np.dot(Xn.T, Xn)/(X.shape[1]  )"
   ]
  },
  {
   "cell_type": "code",
   "execution_count": 471,
   "metadata": {},
   "outputs": [
    {
     "name": "stdout",
     "output_type": "stream",
     "text": [
      "0.504\n",
      "0.479\n",
      "0.449\n",
      "0.422\n",
      "0.394\n",
      "0.362\n",
      "0.338\n",
      "0.322\n",
      "0.301\n",
      "0.274\n",
      "0.263\n",
      "0.254\n",
      "0.247\n",
      "0.243\n",
      "0.24\n",
      "0.237\n",
      "0.237\n",
      "0.236\n",
      "0.232\n",
      "0.231\n"
     ]
    }
   ],
   "source": [
    "Z =  y_train# np.ones(y_train.shape) / y_train.shape[1]\n",
    "alpha = 0.9\n",
    "AHAT, mmp, tty =  calc_A_hat(Af,  1) \n",
    "#rex =  \n",
    "for i in range(20):\n",
    "    #nr = np.linalg.norm(rex@Z)\n",
    "    Z =   alpha * AHAT  @Z   + (1-alpha) *y_train \n",
    "    \n",
    "     \n",
    "    print(accuracy_score( np.argmax(y_test[test_mask], axis=-1), \n",
    "                              np.argmax(np.array( Z)[test_mask], axis=-1))) "
   ]
  },
  {
   "cell_type": "code",
   "execution_count": 175,
   "metadata": {},
   "outputs": [],
   "source": []
  },
  {
   "cell_type": "code",
   "execution_count": 176,
   "metadata": {},
   "outputs": [],
   "source": []
  },
  {
   "cell_type": "code",
   "execution_count": 28,
   "metadata": {},
   "outputs": [
    {
     "name": "stdout",
     "output_type": "stream",
     "text": [
      "Time:  0.25812195299999985\n"
     ]
    }
   ],
   "source": [
    "import timeit\n",
    "\n",
    "start = timeit.default_timer()\n",
    "Z= np.linalg.solve(rex, (1-alpha)*y_train)\n",
    "stop = timeit.default_timer()\n",
    "\n",
    "print('Time: ', stop - start) "
   ]
  },
  {
   "cell_type": "code",
   "execution_count": 11,
   "metadata": {},
   "outputs": [],
   "source": [
    "alpha = 0.9\n",
    "AHAT = calc_A_hat(Af,1)\n",
    "rex = np.identity(nnodes) - alpha * AHAT "
   ]
  },
  {
   "cell_type": "code",
   "execution_count": null,
   "metadata": {},
   "outputs": [
    {
     "name": "stderr",
     "output_type": "stream",
     "text": [
      "/Users/mikhail/opt/anaconda3/lib/python3.7/site-packages/ipykernel_launcher.py:2: FutureWarning:\n",
      "\n",
      "`rcond` parameter will change to the default of machine precision times ``max(M, N)`` where M and N are the input matrix dimensions.\n",
      "To use the future default and silence this warning we advise to pass `rcond=None`, to keep using the old, explicitly pass `rcond=-1`.\n",
      "\n"
     ]
    }
   ],
   "source": [
    "start = timeit.default_timer()\n",
    "Z = np.linalg.lstsq(rex, (1-alpha)*y_train)\n",
    "stop = timeit.default_timer()\n",
    "\n",
    "print('Time: ', stop - start) "
   ]
  },
  {
   "cell_type": "code",
   "execution_count": 14,
   "metadata": {},
   "outputs": [],
   "source": [
    "import timeit\n",
    "\n",
    "\n",
    "\n",
    "#Your statements here\n",
    "\n",
    " "
   ]
  },
  {
   "cell_type": "code",
   "execution_count": 402,
   "metadata": {},
   "outputs": [
    {
     "data": {
      "text/plain": [
       "0.699"
      ]
     },
     "execution_count": 402,
     "metadata": {},
     "output_type": "execute_result"
    }
   ],
   "source": [
    " accuracy_score( np.argmax(y_test[test_mask], axis=-1), \n",
    "                          np.argmax(np.array(Z)[test_mask], axis=-1))"
   ]
  },
  {
   "cell_type": "code",
   "execution_count": 36,
   "metadata": {},
   "outputs": [
    {
     "name": "stdout",
     "output_type": "stream",
     "text": [
      "Time:  0.6975666369999658\n",
      "0.67 0.701\n"
     ]
    }
   ],
   "source": [
    "alpha = 0.9\n",
    "AHAT = calc_A_hat(Af, 0.1)\n",
    "rex = np.identity(nnodes) - alpha * AHAT \n",
    "start = timeit.default_timer()\n",
    "Z = exact_pr(rex, (1-alpha)*y_train )\n",
    "stop = timeit.default_timer()\n",
    "\n",
    "print('Time: ', stop - start) \n",
    "real_acc = accuracy_score( np.argmax(y_test[test_mask], axis=-1), \n",
    "                          np.argmax(np.array(Z)[test_mask], axis=-1))\n",
    " \n",
    "reval_al_acc = accuracy_score( np.argmax(y_val[val_mask], axis=-1), \n",
    "                              np.argmax(np.array(Z)[val_mask], axis=-1))\n",
    " \n",
    "print(reval_al_acc, real_acc)"
   ]
  },
  {
   "cell_type": "code",
   "execution_count": 49,
   "metadata": {},
   "outputs": [],
   "source": []
  },
  {
   "cell_type": "code",
   "execution_count": 10,
   "metadata": {},
   "outputs": [],
   "source": [
    "Dd = np.sum(MMx, axis=1)\n",
    "Dd = sp.diags(Dd)"
   ]
  },
  {
   "cell_type": "code",
   "execution_count": 26,
   "metadata": {},
   "outputs": [],
   "source": [
    "M = X.T@Z@np.linalg.inv((Z.T@Z))"
   ]
  },
  {
   "cell_type": "code",
   "execution_count": 30,
   "metadata": {},
   "outputs": [],
   "source": [
    "X_ = M@Z.T"
   ]
  },
  {
   "cell_type": "code",
   "execution_count": 32,
   "metadata": {},
   "outputs": [
    {
     "data": {
      "text/plain": [
       "(1433, 2708)"
      ]
     },
     "execution_count": 32,
     "metadata": {},
     "output_type": "execute_result"
    }
   ],
   "source": [
    "X_.shape"
   ]
  },
  {
   "cell_type": "code",
   "execution_count": 42,
   "metadata": {},
   "outputs": [
    {
     "ename": "ValueError",
     "evalue": "operands could not be broadcast together with shapes (2708,1433) (2708,) ",
     "output_type": "error",
     "traceback": [
      "\u001b[0;31m---------------------------------------------------------------------------\u001b[0m",
      "\u001b[0;31mValueError\u001b[0m                                Traceback (most recent call last)",
      "\u001b[0;32m<ipython-input-42-885f9b325009>\u001b[0m in \u001b[0;36m<module>\u001b[0;34m\u001b[0m\n\u001b[0;32m----> 1\u001b[0;31m \u001b[0mX_n\u001b[0m \u001b[0;34m=\u001b[0m \u001b[0mX\u001b[0m \u001b[0;34m-\u001b[0m \u001b[0mnp\u001b[0m\u001b[0;34m.\u001b[0m\u001b[0mmean\u001b[0m\u001b[0;34m(\u001b[0m\u001b[0mX\u001b[0m\u001b[0;34m,\u001b[0m \u001b[0maxis\u001b[0m\u001b[0;34m=\u001b[0m\u001b[0;34m-\u001b[0m\u001b[0;36m1\u001b[0m\u001b[0;34m)\u001b[0m\u001b[0;34m\u001b[0m\u001b[0;34m\u001b[0m\u001b[0m\n\u001b[0m",
      "\u001b[0;31mValueError\u001b[0m: operands could not be broadcast together with shapes (2708,1433) (2708,) "
     ]
    }
   ],
   "source": [
    "X_n = X - np.mean(X, axis=-1)"
   ]
  },
  {
   "cell_type": "code",
   "execution_count": 29,
   "metadata": {},
   "outputs": [
    {
     "ename": "IndexError",
     "evalue": "boolean index did not match indexed array along dimension 0; dimension is 1433 but corresponding boolean dimension is 2708",
     "output_type": "error",
     "traceback": [
      "\u001b[0;31m---------------------------------------------------------------------------\u001b[0m",
      "\u001b[0;31mIndexError\u001b[0m                                Traceback (most recent call last)",
      "\u001b[0;32m<ipython-input-29-cc10d84f4fa1>\u001b[0m in \u001b[0;36m<module>\u001b[0;34m\u001b[0m\n\u001b[1;32m      1\u001b[0m real_acc = accuracy_score( np.argmax(y_test[test_mask], axis=-1), \n\u001b[0;32m----> 2\u001b[0;31m                           np.argmax(np.array(M)[test_mask], axis=-1))\n\u001b[0m\u001b[1;32m      3\u001b[0m \u001b[0;34m\u001b[0m\u001b[0m\n\u001b[1;32m      4\u001b[0m reval_al_acc = accuracy_score( np.argmax(y_val[val_mask], axis=-1), \n\u001b[1;32m      5\u001b[0m                               np.argmax(np.array(M)[val_mask], axis=-1))\n",
      "\u001b[0;31mIndexError\u001b[0m: boolean index did not match indexed array along dimension 0; dimension is 1433 but corresponding boolean dimension is 2708"
     ]
    }
   ],
   "source": [
    "real_acc = accuracy_score( np.argmax(y_test[test_mask], axis=-1), \n",
    "                          np.argmax(np.array(M)[test_mask], axis=-1))\n",
    " \n",
    "reval_al_acc = accuracy_score( np.argmax(y_val[val_mask], axis=-1), \n",
    "                              np.argmax(np.array(M)[val_mask], axis=-1))\n",
    " \n",
    "print(reval_al_acc, real_acc)"
   ]
  },
  {
   "cell_type": "code",
   "execution_count": 95,
   "metadata": {},
   "outputs": [
    {
     "data": {
      "text/plain": [
       "(2708, 7)"
      ]
     },
     "execution_count": 95,
     "metadata": {},
     "output_type": "execute_result"
    }
   ],
   "source": [
    "(Z@M.T@M).shape"
   ]
  },
  {
   "cell_type": "code",
   "execution_count": 35,
   "metadata": {},
   "outputs": [
    {
     "data": {
      "text/plain": [
       "(2708, 1433)"
      ]
     },
     "execution_count": 35,
     "metadata": {},
     "output_type": "execute_result"
    }
   ],
   "source": [
    "X.shape"
   ]
  },
  {
   "cell_type": "code",
   "execution_count": 36,
   "metadata": {},
   "outputs": [
    {
     "data": {
      "text/plain": [
       "matrix([[ 0.04545767,  0.10053375,  0.05775564, ...,  0.03425495,\n",
       "          0.05433316,  0.00372982],\n",
       "        [-0.00743137,  0.41774077,  0.04615568, ...,  0.00976749,\n",
       "          0.17398157,  0.05486394],\n",
       "        [ 0.28400247,  0.39402449,  0.36422142, ...,  0.099485  ,\n",
       "          0.11930487,  0.01533129],\n",
       "        ...,\n",
       "        [ 0.08695902,  0.02168185, -0.0009923 , ...,  0.00325138,\n",
       "          0.0062296 ,  0.00106313],\n",
       "        [ 0.25932973,  0.31556864,  0.08413436, ...,  0.17474019,\n",
       "          0.38986164,  0.04554033],\n",
       "        [ 0.00112873,  0.08634125, -0.01619744, ...,  0.08309962,\n",
       "         -0.00646274, -0.00196771]])"
      ]
     },
     "execution_count": 36,
     "metadata": {},
     "output_type": "execute_result"
    }
   ],
   "source": [
    "M "
   ]
  },
  {
   "cell_type": "code",
   "execution_count": null,
   "metadata": {},
   "outputs": [],
   "source": []
  },
  {
   "cell_type": "code",
   "execution_count": null,
   "metadata": {},
   "outputs": [],
   "source": []
  },
  {
   "cell_type": "code",
   "execution_count": null,
   "metadata": {},
   "outputs": [],
   "source": []
  },
  {
   "cell_type": "code",
   "execution_count": null,
   "metadata": {},
   "outputs": [],
   "source": []
  },
  {
   "cell_type": "code",
   "execution_count": null,
   "metadata": {},
   "outputs": [],
   "source": []
  },
  {
   "cell_type": "code",
   "execution_count": 427,
   "metadata": {},
   "outputs": [],
   "source": [
    "from sklearn.decomposition import PCA\n",
    " \n"
   ]
  },
  {
   "cell_type": "code",
   "execution_count": 428,
   "metadata": {},
   "outputs": [],
   "source": []
  },
  {
   "cell_type": "code",
   "execution_count": 429,
   "metadata": {},
   "outputs": [
    {
     "data": {
      "text/plain": [
       "3703"
      ]
     },
     "execution_count": 429,
     "metadata": {},
     "output_type": "execute_result"
    }
   ],
   "source": [
    "XX.shape[1]"
   ]
  },
  {
   "cell_type": "code",
   "execution_count": 430,
   "metadata": {},
   "outputs": [
    {
     "data": {
      "text/plain": [
       "(3327, 3327)"
      ]
     },
     "execution_count": 430,
     "metadata": {},
     "output_type": "execute_result"
    }
   ],
   "source": [
    "MMx.shape"
   ]
  },
  {
   "cell_type": "code",
   "execution_count": 431,
   "metadata": {},
   "outputs": [
    {
     "data": {
      "text/plain": [
       "(2708, 2708)"
      ]
     },
     "execution_count": 431,
     "metadata": {},
     "output_type": "execute_result"
    }
   ],
   "source": [
    "Af.shape"
   ]
  },
  {
   "cell_type": "code",
   "execution_count": 1109,
   "metadata": {},
   "outputs": [],
   "source": [
    "XX = attr_matrix.toarray()\n",
    "Xm = XX - np.mean(XX) \n",
    "pca = PCA(n_components=10)\n",
    "X_p = pca.fit_transform(Xm)\n",
    "MMx =  np.dot(XX,XX.T )#/"
   ]
  },
  {
   "cell_type": "code",
   "execution_count": 534,
   "metadata": {},
   "outputs": [],
   "source": [
    "MMx =  np.dot(XX,XX.T )/(XX.shape[1] -1)"
   ]
  },
  {
   "cell_type": "code",
   "execution_count": 492,
   "metadata": {},
   "outputs": [],
   "source": [
    "In = np.diag(np.ones(Af.shape[0] ))"
   ]
  },
  {
   "cell_type": "code",
   "execution_count": 494,
   "metadata": {},
   "outputs": [],
   "source": [
    "Inl = np.zeros(In.shape)#[train_mask] * 0"
   ]
  },
  {
   "cell_type": "code",
   "execution_count": 495,
   "metadata": {},
   "outputs": [],
   "source": [
    "Inl[train_mask,train_mask] =1"
   ]
  },
  {
   "cell_type": "code",
   "execution_count": 496,
   "metadata": {},
   "outputs": [
    {
     "data": {
      "text/plain": [
       "140.0"
      ]
     },
     "execution_count": 496,
     "metadata": {},
     "output_type": "execute_result"
    }
   ],
   "source": [
    "sum(np.diag(Inl))"
   ]
  },
  {
   "cell_type": "code",
   "execution_count": 497,
   "metadata": {},
   "outputs": [
    {
     "data": {
      "text/plain": [
       "array([ True,  True,  True, ..., False, False, False])"
      ]
     },
     "execution_count": 497,
     "metadata": {},
     "output_type": "execute_result"
    }
   ],
   "source": [
    "train_mask"
   ]
  },
  {
   "cell_type": "code",
   "execution_count": 498,
   "metadata": {},
   "outputs": [],
   "source": [
    "alphas = [0.1, 0.2, 0.3, 0.4, 0.5, 0.6, 0.7, 0.8, 0.9]"
   ]
  },
  {
   "cell_type": "code",
   "execution_count": 1118,
   "metadata": {},
   "outputs": [
    {
     "name": "stdout",
     "output_type": "stream",
     "text": [
      "0.5 11\n",
      "0.118 0.14\n"
     ]
    }
   ],
   "source": [
    "test_acc = [] \n",
    "val_acc = [] \n",
    "\n",
    "nnodes = y_train.shape[0]\n",
    "for alpha in [0.5]:  \n",
    "    for delta in [11]:\n",
    "        AHAT = calc_A_hat(Af, delta)\n",
    "        print(alpha, delta)\n",
    "        rex = np.identity(nnodes) - alpha * AHAT  #+  (1-alpha)*MMx\n",
    "        exact_solution_dwd = exact_pr(rex, (1-alpha)*y_train )\n",
    "        real_acc = accuracy_score( np.argmax(y_test[test_mask], axis=-1), \n",
    "                                  np.argmax(np.array(exact_solution_dwd)[test_mask], axis=-1))\n",
    "        test_acc.append(real_acc)\n",
    "        reval_al_acc = accuracy_score( np.argmax(y_val[val_mask], axis=-1), \n",
    "                                      np.argmax(np.array(exact_solution_dwd)[val_mask], axis=-1))\n",
    "        val_acc.append(reval_al_acc)\n",
    "        print(reval_al_acc, real_acc)"
   ]
  },
  {
   "cell_type": "code",
   "execution_count": 387,
   "metadata": {},
   "outputs": [],
   "source": [
    "d = 1000\n",
    "n = 200\n",
    "c1 = 0.5\n",
    "c2 = 0.4"
   ]
  },
  {
   "cell_type": "code",
   "execution_count": 388,
   "metadata": {},
   "outputs": [
    {
     "data": {
      "text/plain": [
       "0.1"
      ]
     },
     "execution_count": 388,
     "metadata": {},
     "output_type": "execute_result"
    }
   ],
   "source": [
    "c1*n/d"
   ]
  },
  {
   "cell_type": "code",
   "execution_count": 417,
   "metadata": {},
   "outputs": [],
   "source": [
    "mean1 =  np.ones(d)\n",
    "cov1 =  np.diag(np.ones(d))*c1*n/d\n",
    "x1 = np.random.multivariate_normal(mean1, cov1, int(n/2)) "
   ]
  },
  {
   "cell_type": "code",
   "execution_count": 418,
   "metadata": {},
   "outputs": [],
   "source": [
    "mean2 =  np.ones(d) * 0.5\n",
    "cov2 =  np.diag(np.ones(d) ) * 0.1/d\n",
    "x2 = np.random.multivariate_normal(mean2, cov2, int(n/2)) "
   ]
  },
  {
   "cell_type": "code",
   "execution_count": 419,
   "metadata": {},
   "outputs": [
    {
     "data": {
      "text/plain": [
       "3.1622776601683804"
      ]
     },
     "execution_count": 419,
     "metadata": {},
     "output_type": "execute_result"
    }
   ],
   "source": [
    "np.linalg.norm(cov1)"
   ]
  },
  {
   "cell_type": "code",
   "execution_count": 420,
   "metadata": {},
   "outputs": [
    {
     "name": "stdout",
     "output_type": "stream",
     "text": [
      "0.6324555320336762\n",
      "15.811388300841896\n"
     ]
    }
   ],
   "source": [
    "print(np.linalg.norm(np.array(cov1) - np.array(cov2))) \n",
    "print(np.linalg.norm(np.array(mean1) - np.array(mean2))) \n",
    "XT = np.concatenate([x1, x2 ])"
   ]
  },
  {
   "cell_type": "code",
   "execution_count": 421,
   "metadata": {},
   "outputs": [
    {
     "data": {
      "text/plain": [
       "PCA(copy=True, iterated_power='auto', n_components=200, random_state=None,\n",
       "    svd_solver='full', tol=0.0, whiten=False)"
      ]
     },
     "execution_count": 421,
     "metadata": {},
     "output_type": "execute_result"
    }
   ],
   "source": [
    "from sklearn.decomposition import PCA\n",
    " \n",
    "pca = PCA(n_components=np.min(XT.shape),svd_solver='full' )\n",
    "pca.fit(XT.T)"
   ]
  },
  {
   "cell_type": "code",
   "execution_count": 422,
   "metadata": {},
   "outputs": [
    {
     "data": {
      "text/plain": [
       "200"
      ]
     },
     "execution_count": 422,
     "metadata": {},
     "output_type": "execute_result"
    }
   ],
   "source": [
    "len(pca.components_[1])"
   ]
  },
  {
   "cell_type": "code",
   "execution_count": 424,
   "metadata": {},
   "outputs": [
    {
     "data": {
      "application/vnd.plotly.v1+json": {
       "config": {
        "plotlyServerURL": "https://plot.ly"
       },
       "data": [
        {
         "line": {
          "color": "rgb(255, 127, 14)",
          "width": 2
         },
         "mode": "lines",
         "name": "$exact $",
         "showlegend": true,
         "type": "scatter",
         "x": [
          0,
          1,
          2,
          3,
          4,
          5,
          6,
          7,
          8,
          9,
          10,
          11,
          12,
          13,
          14,
          15,
          16,
          17,
          18,
          19,
          20,
          21,
          22,
          23,
          24,
          25,
          26,
          27,
          28,
          29,
          30,
          31,
          32,
          33,
          34,
          35,
          36,
          37,
          38,
          39,
          40,
          41,
          42,
          43,
          44,
          45,
          46,
          47,
          48,
          49,
          50,
          51,
          52,
          53,
          54,
          55,
          56,
          57,
          58,
          59,
          60,
          61,
          62,
          63,
          64,
          65,
          66,
          67,
          68,
          69,
          70,
          71,
          72,
          73,
          74,
          75,
          76,
          77,
          78,
          79,
          80,
          81,
          82,
          83,
          84,
          85,
          86,
          87,
          88,
          89,
          90,
          91,
          92,
          93,
          94,
          95,
          96,
          97,
          98,
          99,
          100,
          101,
          102,
          103,
          104,
          105,
          106,
          107,
          108,
          109,
          110,
          111,
          112,
          113,
          114,
          115,
          116,
          117,
          118,
          119,
          120,
          121,
          122,
          123,
          124,
          125,
          126,
          127,
          128,
          129,
          130,
          131,
          132,
          133,
          134,
          135,
          136,
          137,
          138,
          139,
          140,
          141,
          142,
          143,
          144,
          145,
          146,
          147,
          148,
          149,
          150,
          151,
          152,
          153,
          154,
          155,
          156,
          157,
          158,
          159,
          160,
          161,
          162,
          163,
          164,
          165,
          166,
          167,
          168,
          169,
          170,
          171,
          172,
          173,
          174,
          175,
          176,
          177,
          178,
          179,
          180,
          181,
          182,
          183,
          184,
          185,
          186,
          187,
          188,
          189,
          190,
          191,
          192,
          193,
          194,
          195,
          196,
          197,
          198,
          199
         ],
         "xaxis": "x",
         "y": [
          0.0040871570836560275,
          0.09886202989012899,
          -0.02097734117268014,
          -0.019128249477361112,
          0.03703617887528758,
          0.07719024448875152,
          -0.11095569339354634,
          0.03504370953476997,
          0.11291920111805134,
          -0.06122953222167418,
          0.047920665727629874,
          0.12602796933004118,
          -0.0069474476401026886,
          -0.03625831075698366,
          -0.021880172531143216,
          0.1292239326489959,
          -0.03958613554512558,
          0.062005109597719654,
          -0.06208063407880757,
          0.030101130370289254,
          -0.0611241160443917,
          0.08663035437667352,
          0.004256318053563392,
          -0.023324597700426587,
          -0.06940211129790284,
          -0.08215131295084786,
          0.06999871942082368,
          -0.11078384341290981,
          -0.18350422207398237,
          -0.05382317068804323,
          0.00974663962881326,
          -0.09207305722169529,
          0.07830046016533021,
          0.1361440341387783,
          0.1311050120399511,
          0.149790826326174,
          0.13338772779653635,
          0.11351962303809525,
          -0.030146967956265428,
          -0.08263667666182846,
          0.08686950013122326,
          -0.03931544587711492,
          0.08806859345673725,
          0.007103922910878521,
          0.10627702916747718,
          0.1495203203056298,
          -0.019013810156435933,
          0.034954208683185,
          -0.002583637781045218,
          -0.005850757604012542,
          -0.04550604063026107,
          0.000161778743541737,
          0.03260458435997203,
          -0.05479674325458551,
          0.09712827778599237,
          -0.023402758881112113,
          0.037079478561046895,
          -0.17073605168783199,
          0.15922256867571064,
          -0.1449672612079805,
          -0.03822073516009286,
          -0.10358027660049748,
          -0.20195684776050818,
          0.012595889946256997,
          -0.1979042768228941,
          -0.010350046069782673,
          0.016341726554234662,
          -0.004687435211602153,
          -0.09536589604092989,
          0.0003900075239814252,
          -0.11506085598548517,
          0.0035154045332857777,
          0.09864090567788067,
          0.1529576248181327,
          0.1783095651699743,
          0.035372758719478654,
          -0.01737186337567365,
          0.09313028412238412,
          -0.00976725751990109,
          0.03695568174908563,
          -0.12272486335148841,
          -0.037658440908825676,
          0.017556396821314088,
          -0.03276639743982879,
          -0.05198941166504284,
          0.0004322238741354355,
          -0.0011603316052834554,
          -0.11537782748084786,
          -0.013677287971602331,
          0.16643022653197428,
          -0.10284397411817674,
          -0.10521274644828608,
          0.007110957735357559,
          -0.011300891024324874,
          -0.0598596527350126,
          -0.0752242050321153,
          0.022875136259959274,
          0.0631089112902329,
          0.015251594190867203,
          0.0012515624733864701,
          0.039885332760351964,
          -0.03319333610472346,
          0.016932815489098838,
          -0.04679344657826321,
          -0.0735448909085762,
          -0.12884103736918118,
          -0.02711517263574238,
          0.04003507910665665,
          -0.025637939141452425,
          -0.04447948057303415,
          0.0004938835990523946,
          0.12434600119998128,
          -0.06493984395760212,
          -0.08907827675351979,
          -0.0613406227191939,
          0.007655435045914171,
          -0.015369942020462043,
          0.014714589587174648,
          0.010516021895588007,
          0.025229636140938826,
          0.03331419609680529,
          -0.05664888850305697,
          0.05540916716007636,
          -0.07690514538565087,
          0.020606658823429217,
          0.044288837537381706,
          0.11245391338003724,
          -0.011200029794148778,
          -0.03304539335796587,
          0.016846657031778765,
          -0.019311145572737203,
          -0.03389839756362537,
          -0.014185750240033308,
          -0.0714896082906278,
          -0.020311441387218007,
          -0.00011893144163485441,
          0.11147219541400354,
          -0.046814241069413155,
          -0.06037293993755941,
          -0.05122780783844978,
          -0.10732967035035638,
          -0.0030655327384156938,
          -0.016489955763649127,
          -0.1047450812977661,
          0.0031699216393780466,
          -0.00324555227478845,
          -0.07421957416493374,
          0.005917946883062678,
          0.022053563239005206,
          0.011575087965487606,
          0.08914090618668544,
          0.01132442289526719,
          0.002076632722560585,
          -0.03852779816691213,
          -0.02838624501401836,
          0.00934217354185059,
          -0.02268394388852353,
          -0.05154866774385496,
          0.011473051073986837,
          0.10678762080306561,
          -0.062460637072269114,
          -0.05345661929673911,
          -0.025564764334098756,
          0.09786047136200295,
          -0.00653241447187304,
          -0.05843159570571929,
          -0.029408388526575093,
          -0.010827669711337596,
          0.08028657107292565,
          -0.005209923017976274,
          -0.05867302138081168,
          0.02112510259311364,
          -0.039583013078280445,
          -0.008871062809198006,
          -0.09400521602125748,
          0.02415727363431332,
          0.1295523467720185,
          -0.05768342392299568,
          -0.07172145405618767,
          0.028487955476739577,
          -0.08146973287508455,
          0.014311113652025304,
          -0.022792898545036133,
          -0.011391027743300565,
          -0.00984962935406521,
          -0.03664718367286152,
          -0.06566031840159918,
          -0.022677512530721648,
          -0.02620045969337735,
          -0.03470844589387863,
          0.04116574552440022,
          -0.02532953085634973,
          -0.06748948679006726,
          0.05065091077859348,
          0.030063348051652183,
          -0.04169056025130614,
          -0.05687772702140617,
          -0.031549931644670744,
          0.01674868778181455,
          -0.06545769997319165
         ],
         "yaxis": "y"
        }
       ],
       "layout": {
        "annotations": [
         {
          "font": {
           "size": 16
          },
          "showarrow": false,
          "text": "$",
          "x": 0.5,
          "xanchor": "center",
          "xref": "paper",
          "y": 1,
          "yanchor": "bottom",
          "yref": "paper"
         }
        ],
        "height": 800,
        "template": {
         "data": {
          "bar": [
           {
            "error_x": {
             "color": "#2a3f5f"
            },
            "error_y": {
             "color": "#2a3f5f"
            },
            "marker": {
             "line": {
              "color": "#E5ECF6",
              "width": 0.5
             }
            },
            "type": "bar"
           }
          ],
          "barpolar": [
           {
            "marker": {
             "line": {
              "color": "#E5ECF6",
              "width": 0.5
             }
            },
            "type": "barpolar"
           }
          ],
          "carpet": [
           {
            "aaxis": {
             "endlinecolor": "#2a3f5f",
             "gridcolor": "white",
             "linecolor": "white",
             "minorgridcolor": "white",
             "startlinecolor": "#2a3f5f"
            },
            "baxis": {
             "endlinecolor": "#2a3f5f",
             "gridcolor": "white",
             "linecolor": "white",
             "minorgridcolor": "white",
             "startlinecolor": "#2a3f5f"
            },
            "type": "carpet"
           }
          ],
          "choropleth": [
           {
            "colorbar": {
             "outlinewidth": 0,
             "ticks": ""
            },
            "type": "choropleth"
           }
          ],
          "contour": [
           {
            "colorbar": {
             "outlinewidth": 0,
             "ticks": ""
            },
            "colorscale": [
             [
              0,
              "#0d0887"
             ],
             [
              0.1111111111111111,
              "#46039f"
             ],
             [
              0.2222222222222222,
              "#7201a8"
             ],
             [
              0.3333333333333333,
              "#9c179e"
             ],
             [
              0.4444444444444444,
              "#bd3786"
             ],
             [
              0.5555555555555556,
              "#d8576b"
             ],
             [
              0.6666666666666666,
              "#ed7953"
             ],
             [
              0.7777777777777778,
              "#fb9f3a"
             ],
             [
              0.8888888888888888,
              "#fdca26"
             ],
             [
              1,
              "#f0f921"
             ]
            ],
            "type": "contour"
           }
          ],
          "contourcarpet": [
           {
            "colorbar": {
             "outlinewidth": 0,
             "ticks": ""
            },
            "type": "contourcarpet"
           }
          ],
          "heatmap": [
           {
            "colorbar": {
             "outlinewidth": 0,
             "ticks": ""
            },
            "colorscale": [
             [
              0,
              "#0d0887"
             ],
             [
              0.1111111111111111,
              "#46039f"
             ],
             [
              0.2222222222222222,
              "#7201a8"
             ],
             [
              0.3333333333333333,
              "#9c179e"
             ],
             [
              0.4444444444444444,
              "#bd3786"
             ],
             [
              0.5555555555555556,
              "#d8576b"
             ],
             [
              0.6666666666666666,
              "#ed7953"
             ],
             [
              0.7777777777777778,
              "#fb9f3a"
             ],
             [
              0.8888888888888888,
              "#fdca26"
             ],
             [
              1,
              "#f0f921"
             ]
            ],
            "type": "heatmap"
           }
          ],
          "heatmapgl": [
           {
            "colorbar": {
             "outlinewidth": 0,
             "ticks": ""
            },
            "colorscale": [
             [
              0,
              "#0d0887"
             ],
             [
              0.1111111111111111,
              "#46039f"
             ],
             [
              0.2222222222222222,
              "#7201a8"
             ],
             [
              0.3333333333333333,
              "#9c179e"
             ],
             [
              0.4444444444444444,
              "#bd3786"
             ],
             [
              0.5555555555555556,
              "#d8576b"
             ],
             [
              0.6666666666666666,
              "#ed7953"
             ],
             [
              0.7777777777777778,
              "#fb9f3a"
             ],
             [
              0.8888888888888888,
              "#fdca26"
             ],
             [
              1,
              "#f0f921"
             ]
            ],
            "type": "heatmapgl"
           }
          ],
          "histogram": [
           {
            "marker": {
             "colorbar": {
              "outlinewidth": 0,
              "ticks": ""
             }
            },
            "type": "histogram"
           }
          ],
          "histogram2d": [
           {
            "colorbar": {
             "outlinewidth": 0,
             "ticks": ""
            },
            "colorscale": [
             [
              0,
              "#0d0887"
             ],
             [
              0.1111111111111111,
              "#46039f"
             ],
             [
              0.2222222222222222,
              "#7201a8"
             ],
             [
              0.3333333333333333,
              "#9c179e"
             ],
             [
              0.4444444444444444,
              "#bd3786"
             ],
             [
              0.5555555555555556,
              "#d8576b"
             ],
             [
              0.6666666666666666,
              "#ed7953"
             ],
             [
              0.7777777777777778,
              "#fb9f3a"
             ],
             [
              0.8888888888888888,
              "#fdca26"
             ],
             [
              1,
              "#f0f921"
             ]
            ],
            "type": "histogram2d"
           }
          ],
          "histogram2dcontour": [
           {
            "colorbar": {
             "outlinewidth": 0,
             "ticks": ""
            },
            "colorscale": [
             [
              0,
              "#0d0887"
             ],
             [
              0.1111111111111111,
              "#46039f"
             ],
             [
              0.2222222222222222,
              "#7201a8"
             ],
             [
              0.3333333333333333,
              "#9c179e"
             ],
             [
              0.4444444444444444,
              "#bd3786"
             ],
             [
              0.5555555555555556,
              "#d8576b"
             ],
             [
              0.6666666666666666,
              "#ed7953"
             ],
             [
              0.7777777777777778,
              "#fb9f3a"
             ],
             [
              0.8888888888888888,
              "#fdca26"
             ],
             [
              1,
              "#f0f921"
             ]
            ],
            "type": "histogram2dcontour"
           }
          ],
          "mesh3d": [
           {
            "colorbar": {
             "outlinewidth": 0,
             "ticks": ""
            },
            "type": "mesh3d"
           }
          ],
          "parcoords": [
           {
            "line": {
             "colorbar": {
              "outlinewidth": 0,
              "ticks": ""
             }
            },
            "type": "parcoords"
           }
          ],
          "pie": [
           {
            "automargin": true,
            "type": "pie"
           }
          ],
          "scatter": [
           {
            "marker": {
             "colorbar": {
              "outlinewidth": 0,
              "ticks": ""
             }
            },
            "type": "scatter"
           }
          ],
          "scatter3d": [
           {
            "line": {
             "colorbar": {
              "outlinewidth": 0,
              "ticks": ""
             }
            },
            "marker": {
             "colorbar": {
              "outlinewidth": 0,
              "ticks": ""
             }
            },
            "type": "scatter3d"
           }
          ],
          "scattercarpet": [
           {
            "marker": {
             "colorbar": {
              "outlinewidth": 0,
              "ticks": ""
             }
            },
            "type": "scattercarpet"
           }
          ],
          "scattergeo": [
           {
            "marker": {
             "colorbar": {
              "outlinewidth": 0,
              "ticks": ""
             }
            },
            "type": "scattergeo"
           }
          ],
          "scattergl": [
           {
            "marker": {
             "colorbar": {
              "outlinewidth": 0,
              "ticks": ""
             }
            },
            "type": "scattergl"
           }
          ],
          "scattermapbox": [
           {
            "marker": {
             "colorbar": {
              "outlinewidth": 0,
              "ticks": ""
             }
            },
            "type": "scattermapbox"
           }
          ],
          "scatterpolar": [
           {
            "marker": {
             "colorbar": {
              "outlinewidth": 0,
              "ticks": ""
             }
            },
            "type": "scatterpolar"
           }
          ],
          "scatterpolargl": [
           {
            "marker": {
             "colorbar": {
              "outlinewidth": 0,
              "ticks": ""
             }
            },
            "type": "scatterpolargl"
           }
          ],
          "scatterternary": [
           {
            "marker": {
             "colorbar": {
              "outlinewidth": 0,
              "ticks": ""
             }
            },
            "type": "scatterternary"
           }
          ],
          "surface": [
           {
            "colorbar": {
             "outlinewidth": 0,
             "ticks": ""
            },
            "colorscale": [
             [
              0,
              "#0d0887"
             ],
             [
              0.1111111111111111,
              "#46039f"
             ],
             [
              0.2222222222222222,
              "#7201a8"
             ],
             [
              0.3333333333333333,
              "#9c179e"
             ],
             [
              0.4444444444444444,
              "#bd3786"
             ],
             [
              0.5555555555555556,
              "#d8576b"
             ],
             [
              0.6666666666666666,
              "#ed7953"
             ],
             [
              0.7777777777777778,
              "#fb9f3a"
             ],
             [
              0.8888888888888888,
              "#fdca26"
             ],
             [
              1,
              "#f0f921"
             ]
            ],
            "type": "surface"
           }
          ],
          "table": [
           {
            "cells": {
             "fill": {
              "color": "#EBF0F8"
             },
             "line": {
              "color": "white"
             }
            },
            "header": {
             "fill": {
              "color": "#C8D4E3"
             },
             "line": {
              "color": "white"
             }
            },
            "type": "table"
           }
          ]
         },
         "layout": {
          "annotationdefaults": {
           "arrowcolor": "#2a3f5f",
           "arrowhead": 0,
           "arrowwidth": 1
          },
          "coloraxis": {
           "colorbar": {
            "outlinewidth": 0,
            "ticks": ""
           }
          },
          "colorscale": {
           "diverging": [
            [
             0,
             "#8e0152"
            ],
            [
             0.1,
             "#c51b7d"
            ],
            [
             0.2,
             "#de77ae"
            ],
            [
             0.3,
             "#f1b6da"
            ],
            [
             0.4,
             "#fde0ef"
            ],
            [
             0.5,
             "#f7f7f7"
            ],
            [
             0.6,
             "#e6f5d0"
            ],
            [
             0.7,
             "#b8e186"
            ],
            [
             0.8,
             "#7fbc41"
            ],
            [
             0.9,
             "#4d9221"
            ],
            [
             1,
             "#276419"
            ]
           ],
           "sequential": [
            [
             0,
             "#0d0887"
            ],
            [
             0.1111111111111111,
             "#46039f"
            ],
            [
             0.2222222222222222,
             "#7201a8"
            ],
            [
             0.3333333333333333,
             "#9c179e"
            ],
            [
             0.4444444444444444,
             "#bd3786"
            ],
            [
             0.5555555555555556,
             "#d8576b"
            ],
            [
             0.6666666666666666,
             "#ed7953"
            ],
            [
             0.7777777777777778,
             "#fb9f3a"
            ],
            [
             0.8888888888888888,
             "#fdca26"
            ],
            [
             1,
             "#f0f921"
            ]
           ],
           "sequentialminus": [
            [
             0,
             "#0d0887"
            ],
            [
             0.1111111111111111,
             "#46039f"
            ],
            [
             0.2222222222222222,
             "#7201a8"
            ],
            [
             0.3333333333333333,
             "#9c179e"
            ],
            [
             0.4444444444444444,
             "#bd3786"
            ],
            [
             0.5555555555555556,
             "#d8576b"
            ],
            [
             0.6666666666666666,
             "#ed7953"
            ],
            [
             0.7777777777777778,
             "#fb9f3a"
            ],
            [
             0.8888888888888888,
             "#fdca26"
            ],
            [
             1,
             "#f0f921"
            ]
           ]
          },
          "colorway": [
           "#636efa",
           "#EF553B",
           "#00cc96",
           "#ab63fa",
           "#FFA15A",
           "#19d3f3",
           "#FF6692",
           "#B6E880",
           "#FF97FF",
           "#FECB52"
          ],
          "font": {
           "color": "#2a3f5f"
          },
          "geo": {
           "bgcolor": "white",
           "lakecolor": "white",
           "landcolor": "#E5ECF6",
           "showlakes": true,
           "showland": true,
           "subunitcolor": "white"
          },
          "hoverlabel": {
           "align": "left"
          },
          "hovermode": "closest",
          "mapbox": {
           "style": "light"
          },
          "paper_bgcolor": "white",
          "plot_bgcolor": "#E5ECF6",
          "polar": {
           "angularaxis": {
            "gridcolor": "white",
            "linecolor": "white",
            "ticks": ""
           },
           "bgcolor": "#E5ECF6",
           "radialaxis": {
            "gridcolor": "white",
            "linecolor": "white",
            "ticks": ""
           }
          },
          "scene": {
           "xaxis": {
            "backgroundcolor": "#E5ECF6",
            "gridcolor": "white",
            "gridwidth": 2,
            "linecolor": "white",
            "showbackground": true,
            "ticks": "",
            "zerolinecolor": "white"
           },
           "yaxis": {
            "backgroundcolor": "#E5ECF6",
            "gridcolor": "white",
            "gridwidth": 2,
            "linecolor": "white",
            "showbackground": true,
            "ticks": "",
            "zerolinecolor": "white"
           },
           "zaxis": {
            "backgroundcolor": "#E5ECF6",
            "gridcolor": "white",
            "gridwidth": 2,
            "linecolor": "white",
            "showbackground": true,
            "ticks": "",
            "zerolinecolor": "white"
           }
          },
          "shapedefaults": {
           "line": {
            "color": "#2a3f5f"
           }
          },
          "ternary": {
           "aaxis": {
            "gridcolor": "white",
            "linecolor": "white",
            "ticks": ""
           },
           "baxis": {
            "gridcolor": "white",
            "linecolor": "white",
            "ticks": ""
           },
           "bgcolor": "#E5ECF6",
           "caxis": {
            "gridcolor": "white",
            "linecolor": "white",
            "ticks": ""
           }
          },
          "title": {
           "x": 0.05
          },
          "xaxis": {
           "automargin": true,
           "gridcolor": "white",
           "linecolor": "white",
           "ticks": "",
           "title": {
            "standoff": 15
           },
           "zerolinecolor": "white",
           "zerolinewidth": 2
          },
          "yaxis": {
           "automargin": true,
           "gridcolor": "white",
           "linecolor": "white",
           "ticks": "",
           "title": {
            "standoff": 15
           },
           "zerolinecolor": "white",
           "zerolinewidth": 2
          }
         }
        },
        "title": {
         "text": "$Political \\ blogs \\ 2 \\ classes \\ \\alpha = 0.1 $"
        },
        "width": 1050,
        "xaxis": {
         "anchor": "y",
         "domain": [
          0,
          1
         ],
         "title": {
          "text": "$ time $"
         }
        },
        "yaxis": {
         "anchor": "x",
         "domain": [
          0,
          1
         ]
        }
       }
      },
      "text/html": [
       "<div>\n",
       "        \n",
       "        \n",
       "            <div id=\"219f1687-85d1-45bd-aa54-665f2c496512\" class=\"plotly-graph-div\" style=\"height:800px; width:1050px;\"></div>\n",
       "            <script type=\"text/javascript\">\n",
       "                require([\"plotly\"], function(Plotly) {\n",
       "                    window.PLOTLYENV=window.PLOTLYENV || {};\n",
       "                    \n",
       "                if (document.getElementById(\"219f1687-85d1-45bd-aa54-665f2c496512\")) {\n",
       "                    Plotly.newPlot(\n",
       "                        '219f1687-85d1-45bd-aa54-665f2c496512',\n",
       "                        [{\"line\": {\"color\": \"rgb(255, 127, 14)\", \"width\": 2}, \"mode\": \"lines\", \"name\": \"$exact $\", \"showlegend\": true, \"type\": \"scatter\", \"x\": [0, 1, 2, 3, 4, 5, 6, 7, 8, 9, 10, 11, 12, 13, 14, 15, 16, 17, 18, 19, 20, 21, 22, 23, 24, 25, 26, 27, 28, 29, 30, 31, 32, 33, 34, 35, 36, 37, 38, 39, 40, 41, 42, 43, 44, 45, 46, 47, 48, 49, 50, 51, 52, 53, 54, 55, 56, 57, 58, 59, 60, 61, 62, 63, 64, 65, 66, 67, 68, 69, 70, 71, 72, 73, 74, 75, 76, 77, 78, 79, 80, 81, 82, 83, 84, 85, 86, 87, 88, 89, 90, 91, 92, 93, 94, 95, 96, 97, 98, 99, 100, 101, 102, 103, 104, 105, 106, 107, 108, 109, 110, 111, 112, 113, 114, 115, 116, 117, 118, 119, 120, 121, 122, 123, 124, 125, 126, 127, 128, 129, 130, 131, 132, 133, 134, 135, 136, 137, 138, 139, 140, 141, 142, 143, 144, 145, 146, 147, 148, 149, 150, 151, 152, 153, 154, 155, 156, 157, 158, 159, 160, 161, 162, 163, 164, 165, 166, 167, 168, 169, 170, 171, 172, 173, 174, 175, 176, 177, 178, 179, 180, 181, 182, 183, 184, 185, 186, 187, 188, 189, 190, 191, 192, 193, 194, 195, 196, 197, 198, 199], \"xaxis\": \"x\", \"y\": [0.0040871570836560275, 0.09886202989012899, -0.02097734117268014, -0.019128249477361112, 0.03703617887528758, 0.07719024448875152, -0.11095569339354634, 0.03504370953476997, 0.11291920111805134, -0.06122953222167418, 0.047920665727629874, 0.12602796933004118, -0.0069474476401026886, -0.03625831075698366, -0.021880172531143216, 0.1292239326489959, -0.03958613554512558, 0.062005109597719654, -0.06208063407880757, 0.030101130370289254, -0.0611241160443917, 0.08663035437667352, 0.004256318053563392, -0.023324597700426587, -0.06940211129790284, -0.08215131295084786, 0.06999871942082368, -0.11078384341290981, -0.18350422207398237, -0.05382317068804323, 0.00974663962881326, -0.09207305722169529, 0.07830046016533021, 0.1361440341387783, 0.1311050120399511, 0.149790826326174, 0.13338772779653635, 0.11351962303809525, -0.030146967956265428, -0.08263667666182846, 0.08686950013122326, -0.03931544587711492, 0.08806859345673725, 0.007103922910878521, 0.10627702916747718, 0.1495203203056298, -0.019013810156435933, 0.034954208683185, -0.002583637781045218, -0.005850757604012542, -0.04550604063026107, 0.000161778743541737, 0.03260458435997203, -0.05479674325458551, 0.09712827778599237, -0.023402758881112113, 0.037079478561046895, -0.17073605168783199, 0.15922256867571064, -0.1449672612079805, -0.03822073516009286, -0.10358027660049748, -0.20195684776050818, 0.012595889946256997, -0.1979042768228941, -0.010350046069782673, 0.016341726554234662, -0.004687435211602153, -0.09536589604092989, 0.0003900075239814252, -0.11506085598548517, 0.0035154045332857777, 0.09864090567788067, 0.1529576248181327, 0.1783095651699743, 0.035372758719478654, -0.01737186337567365, 0.09313028412238412, -0.00976725751990109, 0.03695568174908563, -0.12272486335148841, -0.037658440908825676, 0.017556396821314088, -0.03276639743982879, -0.05198941166504284, 0.0004322238741354355, -0.0011603316052834554, -0.11537782748084786, -0.013677287971602331, 0.16643022653197428, -0.10284397411817674, -0.10521274644828608, 0.007110957735357559, -0.011300891024324874, -0.0598596527350126, -0.0752242050321153, 0.022875136259959274, 0.0631089112902329, 0.015251594190867203, 0.0012515624733864701, 0.039885332760351964, -0.03319333610472346, 0.016932815489098838, -0.04679344657826321, -0.0735448909085762, -0.12884103736918118, -0.02711517263574238, 0.04003507910665665, -0.025637939141452425, -0.04447948057303415, 0.0004938835990523946, 0.12434600119998128, -0.06493984395760212, -0.08907827675351979, -0.0613406227191939, 0.007655435045914171, -0.015369942020462043, 0.014714589587174648, 0.010516021895588007, 0.025229636140938826, 0.03331419609680529, -0.05664888850305697, 0.05540916716007636, -0.07690514538565087, 0.020606658823429217, 0.044288837537381706, 0.11245391338003724, -0.011200029794148778, -0.03304539335796587, 0.016846657031778765, -0.019311145572737203, -0.03389839756362537, -0.014185750240033308, -0.0714896082906278, -0.020311441387218007, -0.00011893144163485441, 0.11147219541400354, -0.046814241069413155, -0.06037293993755941, -0.05122780783844978, -0.10732967035035638, -0.0030655327384156938, -0.016489955763649127, -0.1047450812977661, 0.0031699216393780466, -0.00324555227478845, -0.07421957416493374, 0.005917946883062678, 0.022053563239005206, 0.011575087965487606, 0.08914090618668544, 0.01132442289526719, 0.002076632722560585, -0.03852779816691213, -0.02838624501401836, 0.00934217354185059, -0.02268394388852353, -0.05154866774385496, 0.011473051073986837, 0.10678762080306561, -0.062460637072269114, -0.05345661929673911, -0.025564764334098756, 0.09786047136200295, -0.00653241447187304, -0.05843159570571929, -0.029408388526575093, -0.010827669711337596, 0.08028657107292565, -0.005209923017976274, -0.05867302138081168, 0.02112510259311364, -0.039583013078280445, -0.008871062809198006, -0.09400521602125748, 0.02415727363431332, 0.1295523467720185, -0.05768342392299568, -0.07172145405618767, 0.028487955476739577, -0.08146973287508455, 0.014311113652025304, -0.022792898545036133, -0.011391027743300565, -0.00984962935406521, -0.03664718367286152, -0.06566031840159918, -0.022677512530721648, -0.02620045969337735, -0.03470844589387863, 0.04116574552440022, -0.02532953085634973, -0.06748948679006726, 0.05065091077859348, 0.030063348051652183, -0.04169056025130614, -0.05687772702140617, -0.031549931644670744, 0.01674868778181455, -0.06545769997319165], \"yaxis\": \"y\"}],\n",
       "                        {\"annotations\": [{\"font\": {\"size\": 16}, \"showarrow\": false, \"text\": \"$\", \"x\": 0.5, \"xanchor\": \"center\", \"xref\": \"paper\", \"y\": 1.0, \"yanchor\": \"bottom\", \"yref\": \"paper\"}], \"height\": 800, \"template\": {\"data\": {\"bar\": [{\"error_x\": {\"color\": \"#2a3f5f\"}, \"error_y\": {\"color\": \"#2a3f5f\"}, \"marker\": {\"line\": {\"color\": \"#E5ECF6\", \"width\": 0.5}}, \"type\": \"bar\"}], \"barpolar\": [{\"marker\": {\"line\": {\"color\": \"#E5ECF6\", \"width\": 0.5}}, \"type\": \"barpolar\"}], \"carpet\": [{\"aaxis\": {\"endlinecolor\": \"#2a3f5f\", \"gridcolor\": \"white\", \"linecolor\": \"white\", \"minorgridcolor\": \"white\", \"startlinecolor\": \"#2a3f5f\"}, \"baxis\": {\"endlinecolor\": \"#2a3f5f\", \"gridcolor\": \"white\", \"linecolor\": \"white\", \"minorgridcolor\": \"white\", \"startlinecolor\": \"#2a3f5f\"}, \"type\": \"carpet\"}], \"choropleth\": [{\"colorbar\": {\"outlinewidth\": 0, \"ticks\": \"\"}, \"type\": \"choropleth\"}], \"contour\": [{\"colorbar\": {\"outlinewidth\": 0, \"ticks\": \"\"}, \"colorscale\": [[0.0, \"#0d0887\"], [0.1111111111111111, \"#46039f\"], [0.2222222222222222, \"#7201a8\"], [0.3333333333333333, \"#9c179e\"], [0.4444444444444444, \"#bd3786\"], [0.5555555555555556, \"#d8576b\"], [0.6666666666666666, \"#ed7953\"], [0.7777777777777778, \"#fb9f3a\"], [0.8888888888888888, \"#fdca26\"], [1.0, \"#f0f921\"]], \"type\": \"contour\"}], \"contourcarpet\": [{\"colorbar\": {\"outlinewidth\": 0, \"ticks\": \"\"}, \"type\": \"contourcarpet\"}], \"heatmap\": [{\"colorbar\": {\"outlinewidth\": 0, \"ticks\": \"\"}, \"colorscale\": [[0.0, \"#0d0887\"], [0.1111111111111111, \"#46039f\"], [0.2222222222222222, \"#7201a8\"], [0.3333333333333333, \"#9c179e\"], [0.4444444444444444, \"#bd3786\"], [0.5555555555555556, \"#d8576b\"], [0.6666666666666666, \"#ed7953\"], [0.7777777777777778, \"#fb9f3a\"], [0.8888888888888888, \"#fdca26\"], [1.0, \"#f0f921\"]], \"type\": \"heatmap\"}], \"heatmapgl\": [{\"colorbar\": {\"outlinewidth\": 0, \"ticks\": \"\"}, \"colorscale\": [[0.0, \"#0d0887\"], [0.1111111111111111, \"#46039f\"], [0.2222222222222222, \"#7201a8\"], [0.3333333333333333, \"#9c179e\"], [0.4444444444444444, \"#bd3786\"], [0.5555555555555556, \"#d8576b\"], [0.6666666666666666, \"#ed7953\"], [0.7777777777777778, \"#fb9f3a\"], [0.8888888888888888, \"#fdca26\"], [1.0, \"#f0f921\"]], \"type\": \"heatmapgl\"}], \"histogram\": [{\"marker\": {\"colorbar\": {\"outlinewidth\": 0, \"ticks\": \"\"}}, \"type\": \"histogram\"}], \"histogram2d\": [{\"colorbar\": {\"outlinewidth\": 0, \"ticks\": \"\"}, \"colorscale\": [[0.0, \"#0d0887\"], [0.1111111111111111, \"#46039f\"], [0.2222222222222222, \"#7201a8\"], [0.3333333333333333, \"#9c179e\"], [0.4444444444444444, \"#bd3786\"], [0.5555555555555556, \"#d8576b\"], [0.6666666666666666, \"#ed7953\"], [0.7777777777777778, \"#fb9f3a\"], [0.8888888888888888, \"#fdca26\"], [1.0, \"#f0f921\"]], \"type\": \"histogram2d\"}], \"histogram2dcontour\": [{\"colorbar\": {\"outlinewidth\": 0, \"ticks\": \"\"}, \"colorscale\": [[0.0, \"#0d0887\"], [0.1111111111111111, \"#46039f\"], [0.2222222222222222, \"#7201a8\"], [0.3333333333333333, \"#9c179e\"], [0.4444444444444444, \"#bd3786\"], [0.5555555555555556, \"#d8576b\"], [0.6666666666666666, \"#ed7953\"], [0.7777777777777778, \"#fb9f3a\"], [0.8888888888888888, \"#fdca26\"], [1.0, \"#f0f921\"]], \"type\": \"histogram2dcontour\"}], \"mesh3d\": [{\"colorbar\": {\"outlinewidth\": 0, \"ticks\": \"\"}, \"type\": \"mesh3d\"}], \"parcoords\": [{\"line\": {\"colorbar\": {\"outlinewidth\": 0, \"ticks\": \"\"}}, \"type\": \"parcoords\"}], \"pie\": [{\"automargin\": true, \"type\": \"pie\"}], \"scatter\": [{\"marker\": {\"colorbar\": {\"outlinewidth\": 0, \"ticks\": \"\"}}, \"type\": \"scatter\"}], \"scatter3d\": [{\"line\": {\"colorbar\": {\"outlinewidth\": 0, \"ticks\": \"\"}}, \"marker\": {\"colorbar\": {\"outlinewidth\": 0, \"ticks\": \"\"}}, \"type\": \"scatter3d\"}], \"scattercarpet\": [{\"marker\": {\"colorbar\": {\"outlinewidth\": 0, \"ticks\": \"\"}}, \"type\": \"scattercarpet\"}], \"scattergeo\": [{\"marker\": {\"colorbar\": {\"outlinewidth\": 0, \"ticks\": \"\"}}, \"type\": \"scattergeo\"}], \"scattergl\": [{\"marker\": {\"colorbar\": {\"outlinewidth\": 0, \"ticks\": \"\"}}, \"type\": \"scattergl\"}], \"scattermapbox\": [{\"marker\": {\"colorbar\": {\"outlinewidth\": 0, \"ticks\": \"\"}}, \"type\": \"scattermapbox\"}], \"scatterpolar\": [{\"marker\": {\"colorbar\": {\"outlinewidth\": 0, \"ticks\": \"\"}}, \"type\": \"scatterpolar\"}], \"scatterpolargl\": [{\"marker\": {\"colorbar\": {\"outlinewidth\": 0, \"ticks\": \"\"}}, \"type\": \"scatterpolargl\"}], \"scatterternary\": [{\"marker\": {\"colorbar\": {\"outlinewidth\": 0, \"ticks\": \"\"}}, \"type\": \"scatterternary\"}], \"surface\": [{\"colorbar\": {\"outlinewidth\": 0, \"ticks\": \"\"}, \"colorscale\": [[0.0, \"#0d0887\"], [0.1111111111111111, \"#46039f\"], [0.2222222222222222, \"#7201a8\"], [0.3333333333333333, \"#9c179e\"], [0.4444444444444444, \"#bd3786\"], [0.5555555555555556, \"#d8576b\"], [0.6666666666666666, \"#ed7953\"], [0.7777777777777778, \"#fb9f3a\"], [0.8888888888888888, \"#fdca26\"], [1.0, \"#f0f921\"]], \"type\": \"surface\"}], \"table\": [{\"cells\": {\"fill\": {\"color\": \"#EBF0F8\"}, \"line\": {\"color\": \"white\"}}, \"header\": {\"fill\": {\"color\": \"#C8D4E3\"}, \"line\": {\"color\": \"white\"}}, \"type\": \"table\"}]}, \"layout\": {\"annotationdefaults\": {\"arrowcolor\": \"#2a3f5f\", \"arrowhead\": 0, \"arrowwidth\": 1}, \"coloraxis\": {\"colorbar\": {\"outlinewidth\": 0, \"ticks\": \"\"}}, \"colorscale\": {\"diverging\": [[0, \"#8e0152\"], [0.1, \"#c51b7d\"], [0.2, \"#de77ae\"], [0.3, \"#f1b6da\"], [0.4, \"#fde0ef\"], [0.5, \"#f7f7f7\"], [0.6, \"#e6f5d0\"], [0.7, \"#b8e186\"], [0.8, \"#7fbc41\"], [0.9, \"#4d9221\"], [1, \"#276419\"]], \"sequential\": [[0.0, \"#0d0887\"], [0.1111111111111111, \"#46039f\"], [0.2222222222222222, \"#7201a8\"], [0.3333333333333333, \"#9c179e\"], [0.4444444444444444, \"#bd3786\"], [0.5555555555555556, \"#d8576b\"], [0.6666666666666666, \"#ed7953\"], [0.7777777777777778, \"#fb9f3a\"], [0.8888888888888888, \"#fdca26\"], [1.0, \"#f0f921\"]], \"sequentialminus\": [[0.0, \"#0d0887\"], [0.1111111111111111, \"#46039f\"], [0.2222222222222222, \"#7201a8\"], [0.3333333333333333, \"#9c179e\"], [0.4444444444444444, \"#bd3786\"], [0.5555555555555556, \"#d8576b\"], [0.6666666666666666, \"#ed7953\"], [0.7777777777777778, \"#fb9f3a\"], [0.8888888888888888, \"#fdca26\"], [1.0, \"#f0f921\"]]}, \"colorway\": [\"#636efa\", \"#EF553B\", \"#00cc96\", \"#ab63fa\", \"#FFA15A\", \"#19d3f3\", \"#FF6692\", \"#B6E880\", \"#FF97FF\", \"#FECB52\"], \"font\": {\"color\": \"#2a3f5f\"}, \"geo\": {\"bgcolor\": \"white\", \"lakecolor\": \"white\", \"landcolor\": \"#E5ECF6\", \"showlakes\": true, \"showland\": true, \"subunitcolor\": \"white\"}, \"hoverlabel\": {\"align\": \"left\"}, \"hovermode\": \"closest\", \"mapbox\": {\"style\": \"light\"}, \"paper_bgcolor\": \"white\", \"plot_bgcolor\": \"#E5ECF6\", \"polar\": {\"angularaxis\": {\"gridcolor\": \"white\", \"linecolor\": \"white\", \"ticks\": \"\"}, \"bgcolor\": \"#E5ECF6\", \"radialaxis\": {\"gridcolor\": \"white\", \"linecolor\": \"white\", \"ticks\": \"\"}}, \"scene\": {\"xaxis\": {\"backgroundcolor\": \"#E5ECF6\", \"gridcolor\": \"white\", \"gridwidth\": 2, \"linecolor\": \"white\", \"showbackground\": true, \"ticks\": \"\", \"zerolinecolor\": \"white\"}, \"yaxis\": {\"backgroundcolor\": \"#E5ECF6\", \"gridcolor\": \"white\", \"gridwidth\": 2, \"linecolor\": \"white\", \"showbackground\": true, \"ticks\": \"\", \"zerolinecolor\": \"white\"}, \"zaxis\": {\"backgroundcolor\": \"#E5ECF6\", \"gridcolor\": \"white\", \"gridwidth\": 2, \"linecolor\": \"white\", \"showbackground\": true, \"ticks\": \"\", \"zerolinecolor\": \"white\"}}, \"shapedefaults\": {\"line\": {\"color\": \"#2a3f5f\"}}, \"ternary\": {\"aaxis\": {\"gridcolor\": \"white\", \"linecolor\": \"white\", \"ticks\": \"\"}, \"baxis\": {\"gridcolor\": \"white\", \"linecolor\": \"white\", \"ticks\": \"\"}, \"bgcolor\": \"#E5ECF6\", \"caxis\": {\"gridcolor\": \"white\", \"linecolor\": \"white\", \"ticks\": \"\"}}, \"title\": {\"x\": 0.05}, \"xaxis\": {\"automargin\": true, \"gridcolor\": \"white\", \"linecolor\": \"white\", \"ticks\": \"\", \"title\": {\"standoff\": 15}, \"zerolinecolor\": \"white\", \"zerolinewidth\": 2}, \"yaxis\": {\"automargin\": true, \"gridcolor\": \"white\", \"linecolor\": \"white\", \"ticks\": \"\", \"title\": {\"standoff\": 15}, \"zerolinecolor\": \"white\", \"zerolinewidth\": 2}}}, \"title\": {\"text\": \"$Political \\\\ blogs \\\\ 2 \\\\ classes \\\\ \\\\alpha = 0.1 $\"}, \"width\": 1050, \"xaxis\": {\"anchor\": \"y\", \"domain\": [0.0, 1.0], \"title\": {\"text\": \"$ time $\"}}, \"yaxis\": {\"anchor\": \"x\", \"domain\": [0.0, 1.0]}},\n",
       "                        {\"responsive\": true}\n",
       "                    ).then(function(){\n",
       "                            \n",
       "var gd = document.getElementById('219f1687-85d1-45bd-aa54-665f2c496512');\n",
       "var x = new MutationObserver(function (mutations, observer) {{\n",
       "        var display = window.getComputedStyle(gd).display;\n",
       "        if (!display || display === 'none') {{\n",
       "            console.log([gd, 'removed!']);\n",
       "            Plotly.purge(gd);\n",
       "            observer.disconnect();\n",
       "        }}\n",
       "}});\n",
       "\n",
       "// Listen for the removal of the full notebook cells\n",
       "var notebookContainer = gd.closest('#notebook-container');\n",
       "if (notebookContainer) {{\n",
       "    x.observe(notebookContainer, {childList: true});\n",
       "}}\n",
       "\n",
       "// Listen for the clearing of the current output cell\n",
       "var outputEl = gd.closest('.output');\n",
       "if (outputEl) {{\n",
       "    x.observe(outputEl, {childList: true});\n",
       "}}\n",
       "\n",
       "                        })\n",
       "                };\n",
       "                });\n",
       "            </script>\n",
       "        </div>"
      ]
     },
     "metadata": {},
     "output_type": "display_data"
    }
   ],
   "source": [
    "cols = plotly.colors.DEFAULT_PLOTLY_COLORS  \n",
    " \n",
    "x = np.arange(len(pca.components_[1]))\n",
    "fig = make_subplots(rows=1, cols=1, subplot_titles=( r'$ \\alpha  = 0.1$'))\n",
    "error_type = 0  \n",
    "\n",
    "fig.add_trace(go.Scatter(x=x, y= pca.components_[0], mode='lines', \n",
    "                             line=dict(width=2, color=cols[1]),\n",
    "                             name=r'$exact $', showlegend=True,), \n",
    "             row=1, col=1, )\n",
    "    \n",
    "fig.update_xaxes(title_text=r'$ time $' )  \n",
    " \n",
    "  \n",
    "fig.update_layout(height=800, width=1050, title_text=r'$Political \\ blogs \\ 2 \\ classes \\ \\alpha = 0.1 $')\n",
    "fig.show()"
   ]
  },
  {
   "cell_type": "code",
   "execution_count": 195,
   "metadata": {},
   "outputs": [
    {
     "data": {
      "text/plain": [
       "0.016708041116080617"
      ]
     },
     "execution_count": 195,
     "metadata": {},
     "output_type": "execute_result"
    }
   ],
   "source": [
    "np.mean(pca.components_[-1])"
   ]
  },
  {
   "cell_type": "code",
   "execution_count": 144,
   "metadata": {},
   "outputs": [
    {
     "data": {
      "text/plain": [
       "array([1.73623195e+01, 1.18775158e+01, 8.81733403e-31])"
      ]
     },
     "execution_count": 144,
     "metadata": {},
     "output_type": "execute_result"
    }
   ],
   "source": [
    "pca.explained_variance_"
   ]
  },
  {
   "cell_type": "code",
   "execution_count": 146,
   "metadata": {},
   "outputs": [
    {
     "data": {
      "text/plain": [
       "(40,)"
      ]
     },
     "execution_count": 146,
     "metadata": {},
     "output_type": "execute_result"
    }
   ],
   "source": [
    "pca.mean_.shape"
   ]
  },
  {
   "cell_type": "code",
   "execution_count": 1040,
   "metadata": {},
   "outputs": [
    {
     "data": {
      "text/plain": [
       "array([ 0.13394398,  0.42647498, -0.55545226, -0.08083382,  0.03073945,\n",
       "       -0.01211318, -0.00798079, -0.13734148,  0.30257857, -0.08859381,\n",
       "        0.07903899,  0.17619363, -0.03432436,  0.35347553, -0.06398778,\n",
       "        0.01077527,  0.06941114,  0.19152251,  0.10709628,  0.00407688,\n",
       "       -0.02961454, -0.03527319,  0.02917416, -0.04941497,  0.00549625,\n",
       "        0.04361507,  0.06377062,  0.03593976, -0.0727716 , -0.01275028,\n",
       "       -0.07498477, -0.218548  ,  0.09980962,  0.10978365, -0.18504611,\n",
       "        0.01654128,  0.03534736, -0.03839176, -0.07973518,  0.08902629])"
      ]
     },
     "execution_count": 1040,
     "metadata": {},
     "output_type": "execute_result"
    }
   ],
   "source": [
    "pca.components_[-1]"
   ]
  },
  {
   "cell_type": "code",
   "execution_count": 1057,
   "metadata": {},
   "outputs": [
    {
     "data": {
      "text/plain": [
       "16.470722256669177"
      ]
     },
     "execution_count": 1057,
     "metadata": {},
     "output_type": "execute_result"
    }
   ],
   "source": [
    "np.mean(vals)"
   ]
  },
  {
   "cell_type": "code",
   "execution_count": 555,
   "metadata": {},
   "outputs": [],
   "source": [
    "from sklearn.metrics import plot_confusion_matrix"
   ]
  },
  {
   "cell_type": "code",
   "execution_count": null,
   "metadata": {},
   "outputs": [],
   "source": [
    "plot_confusion_matrix()"
   ]
  },
  {
   "cell_type": "code",
   "execution_count": 554,
   "metadata": {},
   "outputs": [
    {
     "data": {
      "text/plain": [
       "array([[ 0.01507055, -0.13720814,  0.03172919, -0.33265766,  0.08495205,\n",
       "        -0.1077813 ,  0.15523234,  0.11860562,  0.01323912, -0.11501172,\n",
       "         0.005042  , -0.30884361,  0.08937252, -0.07024408, -0.29077692,\n",
       "         0.00469065,  0.04860928,  0.2129703 ,  0.17716969, -0.07157724,\n",
       "         0.04567975, -0.20412903, -0.37063638,  0.05488781, -0.15481161,\n",
       "         0.18888029, -0.35151688,  0.04066287,  0.0457275 , -0.17180744,\n",
       "        -0.11102647, -0.01213078, -0.13957573, -0.19822759,  0.10601204,\n",
       "         0.12626104, -0.00155573, -0.11489867, -0.08218627, -0.05239125],\n",
       "       [ 0.03617036, -0.3261071 ,  0.07944817, -0.05896337,  0.0770415 ,\n",
       "         0.18834431,  0.18880365,  0.04397219, -0.10114689, -0.16635927,\n",
       "        -0.08862768,  0.49678918, -0.10393224, -0.10556133, -0.14936803,\n",
       "         0.08669769, -0.17570949, -0.27350254,  0.19169457, -0.02223326,\n",
       "         0.00875745, -0.10158794, -0.09136646, -0.04348482,  0.16877123,\n",
       "        -0.237834  , -0.15948427, -0.16524712, -0.0699077 , -0.24216655,\n",
       "         0.07022849, -0.0132552 ,  0.09132763, -0.11243377,  0.0192466 ,\n",
       "         0.01623415, -0.03481243,  0.22207796,  0.11648204,  0.05946521],\n",
       "       [-0.15487691, -0.39546663, -0.13563596,  0.20890097, -0.19977221,\n",
       "        -0.07196142, -0.21139502, -0.14480904,  0.03603511,  0.08767662,\n",
       "         0.04533005, -0.3198237 , -0.11412941, -0.07183873,  0.02533593,\n",
       "        -0.21885328,  0.07339589, -0.07521013, -0.20273121,  0.05490886,\n",
       "         0.11359339, -0.06491626,  0.02860895, -0.08622531, -0.03220306,\n",
       "        -0.15679523, -0.34682645, -0.34079386, -0.01199911, -0.1198208 ,\n",
       "         0.01044162, -0.24913046,  0.03264099,  0.09698633,  0.01438849,\n",
       "        -0.14516144, -0.05293685,  0.01115966,  0.04459239,  0.10422479]])"
      ]
     },
     "execution_count": 554,
     "metadata": {},
     "output_type": "execute_result"
    }
   ],
   "source": [
    "pca.components_"
   ]
  },
  {
   "cell_type": "code",
   "execution_count": 556,
   "metadata": {},
   "outputs": [
    {
     "data": {
      "application/vnd.plotly.v1+json": {
       "config": {
        "plotlyServerURL": "https://plot.ly"
       },
       "data": [
        {
         "line": {
          "color": "rgb(31, 119, 180)",
          "width": 2
         },
         "mode": "lines",
         "name": "$exact $",
         "showlegend": true,
         "type": "scatter",
         "x": [
          0.1,
          0.2,
          0.3,
          0.4,
          0.5,
          0.6,
          0.7,
          0.8,
          0.9
         ],
         "xaxis": "x",
         "y": [
          0.744
         ],
         "yaxis": "y"
        }
       ],
       "layout": {
        "annotations": [
         {
          "font": {
           "size": 16
          },
          "showarrow": false,
          "text": "$",
          "x": 0.5,
          "xanchor": "center",
          "xref": "paper",
          "y": 1,
          "yanchor": "bottom",
          "yref": "paper"
         }
        ],
        "height": 800,
        "template": {
         "data": {
          "bar": [
           {
            "error_x": {
             "color": "#2a3f5f"
            },
            "error_y": {
             "color": "#2a3f5f"
            },
            "marker": {
             "line": {
              "color": "#E5ECF6",
              "width": 0.5
             }
            },
            "type": "bar"
           }
          ],
          "barpolar": [
           {
            "marker": {
             "line": {
              "color": "#E5ECF6",
              "width": 0.5
             }
            },
            "type": "barpolar"
           }
          ],
          "carpet": [
           {
            "aaxis": {
             "endlinecolor": "#2a3f5f",
             "gridcolor": "white",
             "linecolor": "white",
             "minorgridcolor": "white",
             "startlinecolor": "#2a3f5f"
            },
            "baxis": {
             "endlinecolor": "#2a3f5f",
             "gridcolor": "white",
             "linecolor": "white",
             "minorgridcolor": "white",
             "startlinecolor": "#2a3f5f"
            },
            "type": "carpet"
           }
          ],
          "choropleth": [
           {
            "colorbar": {
             "outlinewidth": 0,
             "ticks": ""
            },
            "type": "choropleth"
           }
          ],
          "contour": [
           {
            "colorbar": {
             "outlinewidth": 0,
             "ticks": ""
            },
            "colorscale": [
             [
              0,
              "#0d0887"
             ],
             [
              0.1111111111111111,
              "#46039f"
             ],
             [
              0.2222222222222222,
              "#7201a8"
             ],
             [
              0.3333333333333333,
              "#9c179e"
             ],
             [
              0.4444444444444444,
              "#bd3786"
             ],
             [
              0.5555555555555556,
              "#d8576b"
             ],
             [
              0.6666666666666666,
              "#ed7953"
             ],
             [
              0.7777777777777778,
              "#fb9f3a"
             ],
             [
              0.8888888888888888,
              "#fdca26"
             ],
             [
              1,
              "#f0f921"
             ]
            ],
            "type": "contour"
           }
          ],
          "contourcarpet": [
           {
            "colorbar": {
             "outlinewidth": 0,
             "ticks": ""
            },
            "type": "contourcarpet"
           }
          ],
          "heatmap": [
           {
            "colorbar": {
             "outlinewidth": 0,
             "ticks": ""
            },
            "colorscale": [
             [
              0,
              "#0d0887"
             ],
             [
              0.1111111111111111,
              "#46039f"
             ],
             [
              0.2222222222222222,
              "#7201a8"
             ],
             [
              0.3333333333333333,
              "#9c179e"
             ],
             [
              0.4444444444444444,
              "#bd3786"
             ],
             [
              0.5555555555555556,
              "#d8576b"
             ],
             [
              0.6666666666666666,
              "#ed7953"
             ],
             [
              0.7777777777777778,
              "#fb9f3a"
             ],
             [
              0.8888888888888888,
              "#fdca26"
             ],
             [
              1,
              "#f0f921"
             ]
            ],
            "type": "heatmap"
           }
          ],
          "heatmapgl": [
           {
            "colorbar": {
             "outlinewidth": 0,
             "ticks": ""
            },
            "colorscale": [
             [
              0,
              "#0d0887"
             ],
             [
              0.1111111111111111,
              "#46039f"
             ],
             [
              0.2222222222222222,
              "#7201a8"
             ],
             [
              0.3333333333333333,
              "#9c179e"
             ],
             [
              0.4444444444444444,
              "#bd3786"
             ],
             [
              0.5555555555555556,
              "#d8576b"
             ],
             [
              0.6666666666666666,
              "#ed7953"
             ],
             [
              0.7777777777777778,
              "#fb9f3a"
             ],
             [
              0.8888888888888888,
              "#fdca26"
             ],
             [
              1,
              "#f0f921"
             ]
            ],
            "type": "heatmapgl"
           }
          ],
          "histogram": [
           {
            "marker": {
             "colorbar": {
              "outlinewidth": 0,
              "ticks": ""
             }
            },
            "type": "histogram"
           }
          ],
          "histogram2d": [
           {
            "colorbar": {
             "outlinewidth": 0,
             "ticks": ""
            },
            "colorscale": [
             [
              0,
              "#0d0887"
             ],
             [
              0.1111111111111111,
              "#46039f"
             ],
             [
              0.2222222222222222,
              "#7201a8"
             ],
             [
              0.3333333333333333,
              "#9c179e"
             ],
             [
              0.4444444444444444,
              "#bd3786"
             ],
             [
              0.5555555555555556,
              "#d8576b"
             ],
             [
              0.6666666666666666,
              "#ed7953"
             ],
             [
              0.7777777777777778,
              "#fb9f3a"
             ],
             [
              0.8888888888888888,
              "#fdca26"
             ],
             [
              1,
              "#f0f921"
             ]
            ],
            "type": "histogram2d"
           }
          ],
          "histogram2dcontour": [
           {
            "colorbar": {
             "outlinewidth": 0,
             "ticks": ""
            },
            "colorscale": [
             [
              0,
              "#0d0887"
             ],
             [
              0.1111111111111111,
              "#46039f"
             ],
             [
              0.2222222222222222,
              "#7201a8"
             ],
             [
              0.3333333333333333,
              "#9c179e"
             ],
             [
              0.4444444444444444,
              "#bd3786"
             ],
             [
              0.5555555555555556,
              "#d8576b"
             ],
             [
              0.6666666666666666,
              "#ed7953"
             ],
             [
              0.7777777777777778,
              "#fb9f3a"
             ],
             [
              0.8888888888888888,
              "#fdca26"
             ],
             [
              1,
              "#f0f921"
             ]
            ],
            "type": "histogram2dcontour"
           }
          ],
          "mesh3d": [
           {
            "colorbar": {
             "outlinewidth": 0,
             "ticks": ""
            },
            "type": "mesh3d"
           }
          ],
          "parcoords": [
           {
            "line": {
             "colorbar": {
              "outlinewidth": 0,
              "ticks": ""
             }
            },
            "type": "parcoords"
           }
          ],
          "pie": [
           {
            "automargin": true,
            "type": "pie"
           }
          ],
          "scatter": [
           {
            "marker": {
             "colorbar": {
              "outlinewidth": 0,
              "ticks": ""
             }
            },
            "type": "scatter"
           }
          ],
          "scatter3d": [
           {
            "line": {
             "colorbar": {
              "outlinewidth": 0,
              "ticks": ""
             }
            },
            "marker": {
             "colorbar": {
              "outlinewidth": 0,
              "ticks": ""
             }
            },
            "type": "scatter3d"
           }
          ],
          "scattercarpet": [
           {
            "marker": {
             "colorbar": {
              "outlinewidth": 0,
              "ticks": ""
             }
            },
            "type": "scattercarpet"
           }
          ],
          "scattergeo": [
           {
            "marker": {
             "colorbar": {
              "outlinewidth": 0,
              "ticks": ""
             }
            },
            "type": "scattergeo"
           }
          ],
          "scattergl": [
           {
            "marker": {
             "colorbar": {
              "outlinewidth": 0,
              "ticks": ""
             }
            },
            "type": "scattergl"
           }
          ],
          "scattermapbox": [
           {
            "marker": {
             "colorbar": {
              "outlinewidth": 0,
              "ticks": ""
             }
            },
            "type": "scattermapbox"
           }
          ],
          "scatterpolar": [
           {
            "marker": {
             "colorbar": {
              "outlinewidth": 0,
              "ticks": ""
             }
            },
            "type": "scatterpolar"
           }
          ],
          "scatterpolargl": [
           {
            "marker": {
             "colorbar": {
              "outlinewidth": 0,
              "ticks": ""
             }
            },
            "type": "scatterpolargl"
           }
          ],
          "scatterternary": [
           {
            "marker": {
             "colorbar": {
              "outlinewidth": 0,
              "ticks": ""
             }
            },
            "type": "scatterternary"
           }
          ],
          "surface": [
           {
            "colorbar": {
             "outlinewidth": 0,
             "ticks": ""
            },
            "colorscale": [
             [
              0,
              "#0d0887"
             ],
             [
              0.1111111111111111,
              "#46039f"
             ],
             [
              0.2222222222222222,
              "#7201a8"
             ],
             [
              0.3333333333333333,
              "#9c179e"
             ],
             [
              0.4444444444444444,
              "#bd3786"
             ],
             [
              0.5555555555555556,
              "#d8576b"
             ],
             [
              0.6666666666666666,
              "#ed7953"
             ],
             [
              0.7777777777777778,
              "#fb9f3a"
             ],
             [
              0.8888888888888888,
              "#fdca26"
             ],
             [
              1,
              "#f0f921"
             ]
            ],
            "type": "surface"
           }
          ],
          "table": [
           {
            "cells": {
             "fill": {
              "color": "#EBF0F8"
             },
             "line": {
              "color": "white"
             }
            },
            "header": {
             "fill": {
              "color": "#C8D4E3"
             },
             "line": {
              "color": "white"
             }
            },
            "type": "table"
           }
          ]
         },
         "layout": {
          "annotationdefaults": {
           "arrowcolor": "#2a3f5f",
           "arrowhead": 0,
           "arrowwidth": 1
          },
          "coloraxis": {
           "colorbar": {
            "outlinewidth": 0,
            "ticks": ""
           }
          },
          "colorscale": {
           "diverging": [
            [
             0,
             "#8e0152"
            ],
            [
             0.1,
             "#c51b7d"
            ],
            [
             0.2,
             "#de77ae"
            ],
            [
             0.3,
             "#f1b6da"
            ],
            [
             0.4,
             "#fde0ef"
            ],
            [
             0.5,
             "#f7f7f7"
            ],
            [
             0.6,
             "#e6f5d0"
            ],
            [
             0.7,
             "#b8e186"
            ],
            [
             0.8,
             "#7fbc41"
            ],
            [
             0.9,
             "#4d9221"
            ],
            [
             1,
             "#276419"
            ]
           ],
           "sequential": [
            [
             0,
             "#0d0887"
            ],
            [
             0.1111111111111111,
             "#46039f"
            ],
            [
             0.2222222222222222,
             "#7201a8"
            ],
            [
             0.3333333333333333,
             "#9c179e"
            ],
            [
             0.4444444444444444,
             "#bd3786"
            ],
            [
             0.5555555555555556,
             "#d8576b"
            ],
            [
             0.6666666666666666,
             "#ed7953"
            ],
            [
             0.7777777777777778,
             "#fb9f3a"
            ],
            [
             0.8888888888888888,
             "#fdca26"
            ],
            [
             1,
             "#f0f921"
            ]
           ],
           "sequentialminus": [
            [
             0,
             "#0d0887"
            ],
            [
             0.1111111111111111,
             "#46039f"
            ],
            [
             0.2222222222222222,
             "#7201a8"
            ],
            [
             0.3333333333333333,
             "#9c179e"
            ],
            [
             0.4444444444444444,
             "#bd3786"
            ],
            [
             0.5555555555555556,
             "#d8576b"
            ],
            [
             0.6666666666666666,
             "#ed7953"
            ],
            [
             0.7777777777777778,
             "#fb9f3a"
            ],
            [
             0.8888888888888888,
             "#fdca26"
            ],
            [
             1,
             "#f0f921"
            ]
           ]
          },
          "colorway": [
           "#636efa",
           "#EF553B",
           "#00cc96",
           "#ab63fa",
           "#FFA15A",
           "#19d3f3",
           "#FF6692",
           "#B6E880",
           "#FF97FF",
           "#FECB52"
          ],
          "font": {
           "color": "#2a3f5f"
          },
          "geo": {
           "bgcolor": "white",
           "lakecolor": "white",
           "landcolor": "#E5ECF6",
           "showlakes": true,
           "showland": true,
           "subunitcolor": "white"
          },
          "hoverlabel": {
           "align": "left"
          },
          "hovermode": "closest",
          "mapbox": {
           "style": "light"
          },
          "paper_bgcolor": "white",
          "plot_bgcolor": "#E5ECF6",
          "polar": {
           "angularaxis": {
            "gridcolor": "white",
            "linecolor": "white",
            "ticks": ""
           },
           "bgcolor": "#E5ECF6",
           "radialaxis": {
            "gridcolor": "white",
            "linecolor": "white",
            "ticks": ""
           }
          },
          "scene": {
           "xaxis": {
            "backgroundcolor": "#E5ECF6",
            "gridcolor": "white",
            "gridwidth": 2,
            "linecolor": "white",
            "showbackground": true,
            "ticks": "",
            "zerolinecolor": "white"
           },
           "yaxis": {
            "backgroundcolor": "#E5ECF6",
            "gridcolor": "white",
            "gridwidth": 2,
            "linecolor": "white",
            "showbackground": true,
            "ticks": "",
            "zerolinecolor": "white"
           },
           "zaxis": {
            "backgroundcolor": "#E5ECF6",
            "gridcolor": "white",
            "gridwidth": 2,
            "linecolor": "white",
            "showbackground": true,
            "ticks": "",
            "zerolinecolor": "white"
           }
          },
          "shapedefaults": {
           "line": {
            "color": "#2a3f5f"
           }
          },
          "ternary": {
           "aaxis": {
            "gridcolor": "white",
            "linecolor": "white",
            "ticks": ""
           },
           "baxis": {
            "gridcolor": "white",
            "linecolor": "white",
            "ticks": ""
           },
           "bgcolor": "#E5ECF6",
           "caxis": {
            "gridcolor": "white",
            "linecolor": "white",
            "ticks": ""
           }
          },
          "title": {
           "x": 0.05
          },
          "xaxis": {
           "automargin": true,
           "gridcolor": "white",
           "linecolor": "white",
           "ticks": "",
           "title": {
            "standoff": 15
           },
           "zerolinecolor": "white",
           "zerolinewidth": 2
          },
          "yaxis": {
           "automargin": true,
           "gridcolor": "white",
           "linecolor": "white",
           "ticks": "",
           "title": {
            "standoff": 15
           },
           "zerolinecolor": "white",
           "zerolinewidth": 2
          }
         }
        },
        "title": {
         "text": "$Political \\ blogs \\ 2 \\ classes \\ \\alpha = 0.1 $"
        },
        "width": 1050,
        "xaxis": {
         "anchor": "y",
         "domain": [
          0,
          1
         ],
         "title": {
          "text": "$ time $"
         },
         "type": "log"
        },
        "yaxis": {
         "anchor": "x",
         "domain": [
          0,
          1
         ],
         "type": "log"
        }
       }
      },
      "text/html": [
       "<div>\n",
       "        \n",
       "        \n",
       "            <div id=\"ce10cb11-75c2-40ed-98ff-00e320553b17\" class=\"plotly-graph-div\" style=\"height:800px; width:1050px;\"></div>\n",
       "            <script type=\"text/javascript\">\n",
       "                require([\"plotly\"], function(Plotly) {\n",
       "                    window.PLOTLYENV=window.PLOTLYENV || {};\n",
       "                    \n",
       "                if (document.getElementById(\"ce10cb11-75c2-40ed-98ff-00e320553b17\")) {\n",
       "                    Plotly.newPlot(\n",
       "                        'ce10cb11-75c2-40ed-98ff-00e320553b17',\n",
       "                        [{\"line\": {\"color\": \"rgb(31, 119, 180)\", \"width\": 2}, \"mode\": \"lines\", \"name\": \"$exact $\", \"showlegend\": true, \"type\": \"scatter\", \"x\": [0.1, 0.2, 0.3, 0.4, 0.5, 0.6, 0.7, 0.8, 0.9], \"xaxis\": \"x\", \"y\": [0.744], \"yaxis\": \"y\"}],\n",
       "                        {\"annotations\": [{\"font\": {\"size\": 16}, \"showarrow\": false, \"text\": \"$\", \"x\": 0.5, \"xanchor\": \"center\", \"xref\": \"paper\", \"y\": 1.0, \"yanchor\": \"bottom\", \"yref\": \"paper\"}], \"height\": 800, \"template\": {\"data\": {\"bar\": [{\"error_x\": {\"color\": \"#2a3f5f\"}, \"error_y\": {\"color\": \"#2a3f5f\"}, \"marker\": {\"line\": {\"color\": \"#E5ECF6\", \"width\": 0.5}}, \"type\": \"bar\"}], \"barpolar\": [{\"marker\": {\"line\": {\"color\": \"#E5ECF6\", \"width\": 0.5}}, \"type\": \"barpolar\"}], \"carpet\": [{\"aaxis\": {\"endlinecolor\": \"#2a3f5f\", \"gridcolor\": \"white\", \"linecolor\": \"white\", \"minorgridcolor\": \"white\", \"startlinecolor\": \"#2a3f5f\"}, \"baxis\": {\"endlinecolor\": \"#2a3f5f\", \"gridcolor\": \"white\", \"linecolor\": \"white\", \"minorgridcolor\": \"white\", \"startlinecolor\": \"#2a3f5f\"}, \"type\": \"carpet\"}], \"choropleth\": [{\"colorbar\": {\"outlinewidth\": 0, \"ticks\": \"\"}, \"type\": \"choropleth\"}], \"contour\": [{\"colorbar\": {\"outlinewidth\": 0, \"ticks\": \"\"}, \"colorscale\": [[0.0, \"#0d0887\"], [0.1111111111111111, \"#46039f\"], [0.2222222222222222, \"#7201a8\"], [0.3333333333333333, \"#9c179e\"], [0.4444444444444444, \"#bd3786\"], [0.5555555555555556, \"#d8576b\"], [0.6666666666666666, \"#ed7953\"], [0.7777777777777778, \"#fb9f3a\"], [0.8888888888888888, \"#fdca26\"], [1.0, \"#f0f921\"]], \"type\": \"contour\"}], \"contourcarpet\": [{\"colorbar\": {\"outlinewidth\": 0, \"ticks\": \"\"}, \"type\": \"contourcarpet\"}], \"heatmap\": [{\"colorbar\": {\"outlinewidth\": 0, \"ticks\": \"\"}, \"colorscale\": [[0.0, \"#0d0887\"], [0.1111111111111111, \"#46039f\"], [0.2222222222222222, \"#7201a8\"], [0.3333333333333333, \"#9c179e\"], [0.4444444444444444, \"#bd3786\"], [0.5555555555555556, \"#d8576b\"], [0.6666666666666666, \"#ed7953\"], [0.7777777777777778, \"#fb9f3a\"], [0.8888888888888888, \"#fdca26\"], [1.0, \"#f0f921\"]], \"type\": \"heatmap\"}], \"heatmapgl\": [{\"colorbar\": {\"outlinewidth\": 0, \"ticks\": \"\"}, \"colorscale\": [[0.0, \"#0d0887\"], [0.1111111111111111, \"#46039f\"], [0.2222222222222222, \"#7201a8\"], [0.3333333333333333, \"#9c179e\"], [0.4444444444444444, \"#bd3786\"], [0.5555555555555556, \"#d8576b\"], [0.6666666666666666, \"#ed7953\"], [0.7777777777777778, \"#fb9f3a\"], [0.8888888888888888, \"#fdca26\"], [1.0, \"#f0f921\"]], \"type\": \"heatmapgl\"}], \"histogram\": [{\"marker\": {\"colorbar\": {\"outlinewidth\": 0, \"ticks\": \"\"}}, \"type\": \"histogram\"}], \"histogram2d\": [{\"colorbar\": {\"outlinewidth\": 0, \"ticks\": \"\"}, \"colorscale\": [[0.0, \"#0d0887\"], [0.1111111111111111, \"#46039f\"], [0.2222222222222222, \"#7201a8\"], [0.3333333333333333, \"#9c179e\"], [0.4444444444444444, \"#bd3786\"], [0.5555555555555556, \"#d8576b\"], [0.6666666666666666, \"#ed7953\"], [0.7777777777777778, \"#fb9f3a\"], [0.8888888888888888, \"#fdca26\"], [1.0, \"#f0f921\"]], \"type\": \"histogram2d\"}], \"histogram2dcontour\": [{\"colorbar\": {\"outlinewidth\": 0, \"ticks\": \"\"}, \"colorscale\": [[0.0, \"#0d0887\"], [0.1111111111111111, \"#46039f\"], [0.2222222222222222, \"#7201a8\"], [0.3333333333333333, \"#9c179e\"], [0.4444444444444444, \"#bd3786\"], [0.5555555555555556, \"#d8576b\"], [0.6666666666666666, \"#ed7953\"], [0.7777777777777778, \"#fb9f3a\"], [0.8888888888888888, \"#fdca26\"], [1.0, \"#f0f921\"]], \"type\": \"histogram2dcontour\"}], \"mesh3d\": [{\"colorbar\": {\"outlinewidth\": 0, \"ticks\": \"\"}, \"type\": \"mesh3d\"}], \"parcoords\": [{\"line\": {\"colorbar\": {\"outlinewidth\": 0, \"ticks\": \"\"}}, \"type\": \"parcoords\"}], \"pie\": [{\"automargin\": true, \"type\": \"pie\"}], \"scatter\": [{\"marker\": {\"colorbar\": {\"outlinewidth\": 0, \"ticks\": \"\"}}, \"type\": \"scatter\"}], \"scatter3d\": [{\"line\": {\"colorbar\": {\"outlinewidth\": 0, \"ticks\": \"\"}}, \"marker\": {\"colorbar\": {\"outlinewidth\": 0, \"ticks\": \"\"}}, \"type\": \"scatter3d\"}], \"scattercarpet\": [{\"marker\": {\"colorbar\": {\"outlinewidth\": 0, \"ticks\": \"\"}}, \"type\": \"scattercarpet\"}], \"scattergeo\": [{\"marker\": {\"colorbar\": {\"outlinewidth\": 0, \"ticks\": \"\"}}, \"type\": \"scattergeo\"}], \"scattergl\": [{\"marker\": {\"colorbar\": {\"outlinewidth\": 0, \"ticks\": \"\"}}, \"type\": \"scattergl\"}], \"scattermapbox\": [{\"marker\": {\"colorbar\": {\"outlinewidth\": 0, \"ticks\": \"\"}}, \"type\": \"scattermapbox\"}], \"scatterpolar\": [{\"marker\": {\"colorbar\": {\"outlinewidth\": 0, \"ticks\": \"\"}}, \"type\": \"scatterpolar\"}], \"scatterpolargl\": [{\"marker\": {\"colorbar\": {\"outlinewidth\": 0, \"ticks\": \"\"}}, \"type\": \"scatterpolargl\"}], \"scatterternary\": [{\"marker\": {\"colorbar\": {\"outlinewidth\": 0, \"ticks\": \"\"}}, \"type\": \"scatterternary\"}], \"surface\": [{\"colorbar\": {\"outlinewidth\": 0, \"ticks\": \"\"}, \"colorscale\": [[0.0, \"#0d0887\"], [0.1111111111111111, \"#46039f\"], [0.2222222222222222, \"#7201a8\"], [0.3333333333333333, \"#9c179e\"], [0.4444444444444444, \"#bd3786\"], [0.5555555555555556, \"#d8576b\"], [0.6666666666666666, \"#ed7953\"], [0.7777777777777778, \"#fb9f3a\"], [0.8888888888888888, \"#fdca26\"], [1.0, \"#f0f921\"]], \"type\": \"surface\"}], \"table\": [{\"cells\": {\"fill\": {\"color\": \"#EBF0F8\"}, \"line\": {\"color\": \"white\"}}, \"header\": {\"fill\": {\"color\": \"#C8D4E3\"}, \"line\": {\"color\": \"white\"}}, \"type\": \"table\"}]}, \"layout\": {\"annotationdefaults\": {\"arrowcolor\": \"#2a3f5f\", \"arrowhead\": 0, \"arrowwidth\": 1}, \"coloraxis\": {\"colorbar\": {\"outlinewidth\": 0, \"ticks\": \"\"}}, \"colorscale\": {\"diverging\": [[0, \"#8e0152\"], [0.1, \"#c51b7d\"], [0.2, \"#de77ae\"], [0.3, \"#f1b6da\"], [0.4, \"#fde0ef\"], [0.5, \"#f7f7f7\"], [0.6, \"#e6f5d0\"], [0.7, \"#b8e186\"], [0.8, \"#7fbc41\"], [0.9, \"#4d9221\"], [1, \"#276419\"]], \"sequential\": [[0.0, \"#0d0887\"], [0.1111111111111111, \"#46039f\"], [0.2222222222222222, \"#7201a8\"], [0.3333333333333333, \"#9c179e\"], [0.4444444444444444, \"#bd3786\"], [0.5555555555555556, \"#d8576b\"], [0.6666666666666666, \"#ed7953\"], [0.7777777777777778, \"#fb9f3a\"], [0.8888888888888888, \"#fdca26\"], [1.0, \"#f0f921\"]], \"sequentialminus\": [[0.0, \"#0d0887\"], [0.1111111111111111, \"#46039f\"], [0.2222222222222222, \"#7201a8\"], [0.3333333333333333, \"#9c179e\"], [0.4444444444444444, \"#bd3786\"], [0.5555555555555556, \"#d8576b\"], [0.6666666666666666, \"#ed7953\"], [0.7777777777777778, \"#fb9f3a\"], [0.8888888888888888, \"#fdca26\"], [1.0, \"#f0f921\"]]}, \"colorway\": [\"#636efa\", \"#EF553B\", \"#00cc96\", \"#ab63fa\", \"#FFA15A\", \"#19d3f3\", \"#FF6692\", \"#B6E880\", \"#FF97FF\", \"#FECB52\"], \"font\": {\"color\": \"#2a3f5f\"}, \"geo\": {\"bgcolor\": \"white\", \"lakecolor\": \"white\", \"landcolor\": \"#E5ECF6\", \"showlakes\": true, \"showland\": true, \"subunitcolor\": \"white\"}, \"hoverlabel\": {\"align\": \"left\"}, \"hovermode\": \"closest\", \"mapbox\": {\"style\": \"light\"}, \"paper_bgcolor\": \"white\", \"plot_bgcolor\": \"#E5ECF6\", \"polar\": {\"angularaxis\": {\"gridcolor\": \"white\", \"linecolor\": \"white\", \"ticks\": \"\"}, \"bgcolor\": \"#E5ECF6\", \"radialaxis\": {\"gridcolor\": \"white\", \"linecolor\": \"white\", \"ticks\": \"\"}}, \"scene\": {\"xaxis\": {\"backgroundcolor\": \"#E5ECF6\", \"gridcolor\": \"white\", \"gridwidth\": 2, \"linecolor\": \"white\", \"showbackground\": true, \"ticks\": \"\", \"zerolinecolor\": \"white\"}, \"yaxis\": {\"backgroundcolor\": \"#E5ECF6\", \"gridcolor\": \"white\", \"gridwidth\": 2, \"linecolor\": \"white\", \"showbackground\": true, \"ticks\": \"\", \"zerolinecolor\": \"white\"}, \"zaxis\": {\"backgroundcolor\": \"#E5ECF6\", \"gridcolor\": \"white\", \"gridwidth\": 2, \"linecolor\": \"white\", \"showbackground\": true, \"ticks\": \"\", \"zerolinecolor\": \"white\"}}, \"shapedefaults\": {\"line\": {\"color\": \"#2a3f5f\"}}, \"ternary\": {\"aaxis\": {\"gridcolor\": \"white\", \"linecolor\": \"white\", \"ticks\": \"\"}, \"baxis\": {\"gridcolor\": \"white\", \"linecolor\": \"white\", \"ticks\": \"\"}, \"bgcolor\": \"#E5ECF6\", \"caxis\": {\"gridcolor\": \"white\", \"linecolor\": \"white\", \"ticks\": \"\"}}, \"title\": {\"x\": 0.05}, \"xaxis\": {\"automargin\": true, \"gridcolor\": \"white\", \"linecolor\": \"white\", \"ticks\": \"\", \"title\": {\"standoff\": 15}, \"zerolinecolor\": \"white\", \"zerolinewidth\": 2}, \"yaxis\": {\"automargin\": true, \"gridcolor\": \"white\", \"linecolor\": \"white\", \"ticks\": \"\", \"title\": {\"standoff\": 15}, \"zerolinecolor\": \"white\", \"zerolinewidth\": 2}}}, \"title\": {\"text\": \"$Political \\\\ blogs \\\\ 2 \\\\ classes \\\\ \\\\alpha = 0.1 $\"}, \"width\": 1050, \"xaxis\": {\"anchor\": \"y\", \"domain\": [0.0, 1.0], \"title\": {\"text\": \"$ time $\"}, \"type\": \"log\"}, \"yaxis\": {\"anchor\": \"x\", \"domain\": [0.0, 1.0], \"type\": \"log\"}},\n",
       "                        {\"responsive\": true}\n",
       "                    ).then(function(){\n",
       "                            \n",
       "var gd = document.getElementById('ce10cb11-75c2-40ed-98ff-00e320553b17');\n",
       "var x = new MutationObserver(function (mutations, observer) {{\n",
       "        var display = window.getComputedStyle(gd).display;\n",
       "        if (!display || display === 'none') {{\n",
       "            console.log([gd, 'removed!']);\n",
       "            Plotly.purge(gd);\n",
       "            observer.disconnect();\n",
       "        }}\n",
       "}});\n",
       "\n",
       "// Listen for the removal of the full notebook cells\n",
       "var notebookContainer = gd.closest('#notebook-container');\n",
       "if (notebookContainer) {{\n",
       "    x.observe(notebookContainer, {childList: true});\n",
       "}}\n",
       "\n",
       "// Listen for the clearing of the current output cell\n",
       "var outputEl = gd.closest('.output');\n",
       "if (outputEl) {{\n",
       "    x.observe(outputEl, {childList: true});\n",
       "}}\n",
       "\n",
       "                        })\n",
       "                };\n",
       "                });\n",
       "            </script>\n",
       "        </div>"
      ]
     },
     "metadata": {},
     "output_type": "display_data"
    }
   ],
   "source": [
    "cols = plotly.colors.DEFAULT_PLOTLY_COLORS  \n",
    "exact_nomalized = np.ones(300000)  * real_acc\n",
    "x = np.arange(30000)\n",
    "fig = make_subplots(rows=1, cols=1, subplot_titles=( r'$ \\alpha  = 0.1$'))\n",
    "error_type = 0\n",
    "error_name =['accuracy', '||AX-b||']\n",
    " \n",
    "fig.add_trace(go.Scatter(x=alphas, y=val_acc, mode='lines', \n",
    "                             line=dict(width=2, color=cols[0]),\n",
    "                             name=r'$exact $', showlegend=True,), \n",
    "             row=1, col=1, )  \n",
    "   \n",
    "   \n",
    "\n",
    "    \n",
    "fig.update_xaxes(title_text=r'$ time $' )\n",
    "fig.update_xaxes(type=\"log\", row=1, col=1)\n",
    "fig.update_yaxes(  type=\"log\", row=1, col=1) \n",
    " \n",
    "  \n",
    "fig.update_layout(height=800, width=1050, title_text=r'$Political \\ blogs \\ 2 \\ classes \\ \\alpha = 0.1 $')\n",
    "fig.show()"
   ]
  },
  {
   "cell_type": "code",
   "execution_count": 65,
   "metadata": {},
   "outputs": [
    {
     "data": {
      "text/plain": [
       "[0.73, 0.73, 0.73, 0.73, 0.73, 0.73, 0.73, 0.73, 0.73, 0.73]"
      ]
     },
     "execution_count": 65,
     "metadata": {},
     "output_type": "execute_result"
    }
   ],
   "source": [
    "val_acc"
   ]
  },
  {
   "cell_type": "code",
   "execution_count": null,
   "metadata": {},
   "outputs": [],
   "source": []
  }
 ],
 "metadata": {
  "kernelspec": {
   "display_name": "Python 3",
   "language": "python",
   "name": "python3"
  },
  "language_info": {
   "codemirror_mode": {
    "name": "ipython",
    "version": 3
   },
   "file_extension": ".py",
   "mimetype": "text/x-python",
   "name": "python",
   "nbconvert_exporter": "python",
   "pygments_lexer": "ipython3",
   "version": "3.7.6"
  }
 },
 "nbformat": 4,
 "nbformat_minor": 4
}
