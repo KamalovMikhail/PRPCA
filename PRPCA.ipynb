{
 "cells": [
  {
   "cell_type": "code",
   "execution_count": 1,
   "metadata": {},
   "outputs": [],
   "source": [
    "import numpy as np  \n",
    "import networkx as nx\n",
    "import scipy.sparse as sp\n",
    "import scipy as sc \n",
    "import timeit\n",
    "import time\n",
    "import pandas as pd \n",
    "import tqdm\n",
    "from planetoid_loader import load_data \n",
    "from sklearn import metrics  as m\n",
    "from scipy.sparse.linalg import gmres \n",
    "from sklearn.decomposition import TruncatedSVD\n",
    "from sklearn.metrics.pairwise import  cosine_similarity , rbf_kernel"
   ]
  },
  {
   "cell_type": "code",
   "execution_count": 2,
   "metadata": {},
   "outputs": [],
   "source": [
    "adj, attr_matrix, y_train, y_val, y_test, train_mask, val_mask, test_mask, ally, allx = load_data('citeseer')\n",
    "Af = adj.toarray()\n",
    "nnodes = Af.shape[0]"
   ]
  },
  {
   "cell_type": "markdown",
   "metadata": {},
   "source": [
    "### Covariance betwen nodes "
   ]
  },
  {
   "cell_type": "code",
   "execution_count": 89,
   "metadata": {},
   "outputs": [],
   "source": [
    "Xn = np.copy(attr_matrix.toarray())\n",
    "Xn = Xn.T  \n",
    "Xn = Xn - np.median(Xn, axis=0)\n",
    "MMx =  np.dot(Xn.T, Xn) / (Xn.shape[0] - 1)  "
   ]
  },
  {
   "cell_type": "markdown",
   "metadata": {},
   "source": [
    "### Cos distance $W_{COS}$ $W_{RBF}$"
   ]
  },
  {
   "cell_type": "code",
   "execution_count": 5,
   "metadata": {},
   "outputs": [],
   "source": [
    "MMCos = cosine_similarity(attr_matrix.toarray()) / (Xn.shape[0]-1) \n",
    "MMrbf = rbf_kernel(attr_matrix.toarray())/(Xn.shape[0] -1) "
   ]
  },
  {
   "cell_type": "code",
   "execution_count": 68,
   "metadata": {},
   "outputs": [],
   "source": [
    "def calc_A_hat(adj_matrix: sp.spmatrix, delta, sigma, MMx) -> sp.spmatrix:\n",
    "    nnodes = adj_matrix.shape[0]\n",
    "    A = adj_matrix + sp.eye(nnodes)#Ω#@ D_invsqrt_corr\n",
    "    D_vec = np.sum(A, axis=1).A1 \n",
    "    lsigma = sigma - 1\n",
    "    rsigma = - sigma\n",
    "    wsigma = -2*sigma + 1\n",
    "    \n",
    "    D_l = sp.diags(np.power(D_vec, lsigma)) \n",
    "    D_r= sp.diags(np.power(D_vec, rsigma ) )\n",
    "    Dw = sp.diags(np.power(D_vec, wsigma ) )\n",
    "    S_ = MMx@ Dw \n",
    "    \n",
    "    return S_ , D_l@A@D_r  +   delta* S_"
   ]
  },
  {
   "cell_type": "markdown",
   "metadata": {},
   "source": [
    "### Parameters for PRPCA"
   ]
  },
  {
   "cell_type": "code",
   "execution_count": 115,
   "metadata": {},
   "outputs": [],
   "source": [
    "delta = 1\n",
    "sigma = 1\n",
    "alpha= 0.9\n",
    "svd_error = 0.1\n",
    "iter_ = 15\n",
    "tol = 1e-03\n",
    "beta = 0.9\n",
    "svd = TruncatedSVD(n_components=1, algorithm='randomized')\n",
    "\n",
    "mmc, AHAT = calc_A_hat(Af, delta, sigma, MMx ) \n",
    "rex = (np.identity(nnodes)  - alpha * AHAT )\n",
    "svd.fit(mmc)\n",
    "gamma = svd.singular_values_[0] "
   ]
  },
  {
   "cell_type": "markdown",
   "metadata": {},
   "source": [
    "### PRPCA"
   ]
  },
  {
   "cell_type": "code",
   "execution_count": 118,
   "metadata": {},
   "outputs": [
    {
     "name": "stdout",
     "output_type": "stream",
     "text": [
      "\n"
     ]
    }
   ],
   "source": [
    "def JOR(A, Z, Y, iter_, beta, alpha):\n",
    "    A = np.copy(A)\n",
    "    Z = np.copy(Z)\n",
    "    Y = np.copy(Y) \n",
    "    for _ in range(iter_):\n",
    "        Z = Z + beta*(alpha * AHAT@Z - Z + (1-alpha) * Y) \n",
    "    return Z\n",
    "def GMRES(A, Y, alpha, k, tol):\n",
    "    A = np.copy(A)\n",
    "    Y = np.copy(Y) \n",
    "    predicts = []\n",
    "    for j in range(k): \n",
    "        temp_ = gmres(A, (1-alpha)*Y[:,j], tol=tol)[0] \n",
    "        predicts.append([temp_])\n",
    "    return np.concatenate(predicts).T \n",
    "\n",
    "if (1 + delta * (gamma - svd_error)) <= 1/alpha: \n",
    "    print('jor')\n",
    "    start = timeit.default_timer()\n",
    "    Z = JOR(A=AHAT, Z=y_train, Y=y_train, iter_=iter_, beta=beta, alpha=alpha)\n",
    "    print(timeit.default_timer() - start)\n",
    "else:\n",
    "    print('gmres')\n",
    "    start = timeit.default_timer()\n",
    "    Z = GMRES(A=rex, Y=y_train, alpha=alpha, k=y_train.shape[1], tol=tol)\n",
    "    print(timeit.default_timer() - start)\n",
    "    \n",
    "m.f1_score(np.argmax(y_test[test_mask], axis=-1),\n",
    "                  np.argmax(np.array(Z  )[test_mask], axis=-1), average='micro') "
   ]
  }
 ],
 "metadata": {
  "kernelspec": {
   "display_name": "Python 3",
   "language": "python",
   "name": "python3"
  },
  "language_info": {
   "codemirror_mode": {
    "name": "ipython",
    "version": 3
   },
   "file_extension": ".py",
   "mimetype": "text/x-python",
   "name": "python",
   "nbconvert_exporter": "python",
   "pygments_lexer": "ipython3",
   "version": "3.7.6"
  }
 },
 "nbformat": 4,
 "nbformat_minor": 4
}
